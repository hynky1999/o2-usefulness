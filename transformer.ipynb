{
 "cells": [
  {
   "cell_type": "markdown",
   "id": "0ab670b5",
   "metadata": {
    "tags": [
     "papermill-error-cell-tag"
    ]
   },
   "source": [
    "<span style=\"color:red; font-family:Helvetica Neue, Helvetica, Arial, sans-serif; font-size:2em;\">An Exception was encountered at '<a href=\"#papermill-error-cell\">In [8]</a>'.</span>"
   ]
  },
  {
   "cell_type": "code",
   "execution_count": 1,
   "id": "99986a9d",
   "metadata": {
    "execution": {
     "iopub.execute_input": "2023-06-06T23:33:10.311199Z",
     "iopub.status.busy": "2023-06-06T23:33:10.310669Z",
     "iopub.status.idle": "2023-06-06T23:33:19.822491Z",
     "shell.execute_reply": "2023-06-06T23:33:19.821380Z"
    },
    "papermill": {
     "duration": 9.524036,
     "end_time": "2023-06-06T23:33:19.826038",
     "exception": false,
     "start_time": "2023-06-06T23:33:10.302002",
     "status": "completed"
    },
    "tags": []
   },
   "outputs": [
    {
     "name": "stderr",
     "output_type": "stream",
     "text": [
      "\u001b[34m\u001b[1mwandb\u001b[0m: Currently logged in as: \u001b[33mkydlicek-hynek\u001b[0m (\u001b[33mhynky\u001b[0m). Use \u001b[1m`wandb login --relogin`\u001b[0m to force relogin\n"
     ]
    },
    {
     "name": "stderr",
     "output_type": "stream",
     "text": [
      "\u001b[34m\u001b[1mwandb\u001b[0m: wandb version 0.15.4 is available!  To upgrade, please run:\n",
      "\u001b[34m\u001b[1mwandb\u001b[0m:  $ pip install wandb --upgrade\n"
     ]
    },
    {
     "name": "stderr",
     "output_type": "stream",
     "text": [
      "\u001b[34m\u001b[1mwandb\u001b[0m: Tracking run with wandb version 0.15.3\n"
     ]
    },
    {
     "name": "stderr",
     "output_type": "stream",
     "text": [
      "\u001b[34m\u001b[1mwandb\u001b[0m: Run data is saved locally in \u001b[35m\u001b[1m/lnet/aic/personal/kydliceh/o2/ml/wandb/run-20230607_013318-ds8ke0wx\u001b[0m\n",
      "\u001b[34m\u001b[1mwandb\u001b[0m: Run \u001b[1m`wandb offline`\u001b[0m to turn off syncing.\n"
     ]
    },
    {
     "name": "stderr",
     "output_type": "stream",
     "text": [
      "\u001b[34m\u001b[1mwandb\u001b[0m: Syncing run \u001b[33mvital-surf-12\u001b[0m\n"
     ]
    },
    {
     "name": "stderr",
     "output_type": "stream",
     "text": [
      "\u001b[34m\u001b[1mwandb\u001b[0m: ⭐️ View project at \u001b[34m\u001b[4mhttps://wandb.ai/hynky/o2\u001b[0m\n"
     ]
    },
    {
     "name": "stderr",
     "output_type": "stream",
     "text": [
      "\u001b[34m\u001b[1mwandb\u001b[0m: 🚀 View run at \u001b[34m\u001b[4mhttps://wandb.ai/hynky/o2/runs/ds8ke0wx\u001b[0m\n"
     ]
    }
   ],
   "source": [
    "from utils import init_experiment\n",
    "model_name = \"bert-base-uncased\"\n",
    "init_experiment({\"model\": model_name})"
   ]
  },
  {
   "cell_type": "code",
   "execution_count": 2,
   "id": "206bc14e",
   "metadata": {
    "execution": {
     "iopub.execute_input": "2023-06-06T23:33:19.845599Z",
     "iopub.status.busy": "2023-06-06T23:33:19.845023Z",
     "iopub.status.idle": "2023-06-06T23:34:12.553034Z",
     "shell.execute_reply": "2023-06-06T23:34:12.552048Z"
    },
    "papermill": {
     "duration": 52.721291,
     "end_time": "2023-06-06T23:34:12.556212",
     "exception": false,
     "start_time": "2023-06-06T23:33:19.834921",
     "status": "completed"
    },
    "tags": []
   },
   "outputs": [],
   "source": [
    "import pandas as pd\n",
    "train = pd.read_parquet(\"../artifacts/feature_store/yelp2020/train/\")\n",
    "test = pd.read_parquet(\"../artifacts/feature_store/yelp2020/test/\")\n"
   ]
  },
  {
   "cell_type": "code",
   "execution_count": 3,
   "id": "7a6d9834",
   "metadata": {
    "execution": {
     "iopub.execute_input": "2023-06-06T23:34:12.575704Z",
     "iopub.status.busy": "2023-06-06T23:34:12.574771Z",
     "iopub.status.idle": "2023-06-06T23:34:15.015704Z",
     "shell.execute_reply": "2023-06-06T23:34:15.014784Z"
    },
    "papermill": {
     "duration": 2.452861,
     "end_time": "2023-06-06T23:34:15.018298",
     "exception": false,
     "start_time": "2023-06-06T23:34:12.565437",
     "status": "completed"
    },
    "tags": []
   },
   "outputs": [],
   "source": [
    "# we will use small sample of the data 800k\n",
    "train = train.sample(10000)\n",
    "# split into train and validation\n",
    "train = train.sample(frac=0.9, random_state=42)\n",
    "val = train.drop(train.index)"
   ]
  },
  {
   "cell_type": "code",
   "execution_count": 4,
   "id": "22a43155",
   "metadata": {
    "execution": {
     "iopub.execute_input": "2023-06-06T23:34:15.038293Z",
     "iopub.status.busy": "2023-06-06T23:34:15.037830Z",
     "iopub.status.idle": "2023-06-06T23:34:16.209419Z",
     "shell.execute_reply": "2023-06-06T23:34:16.208424Z"
    },
    "papermill": {
     "duration": 1.18435,
     "end_time": "2023-06-06T23:34:16.212061",
     "exception": false,
     "start_time": "2023-06-06T23:34:15.027711",
     "status": "completed"
    },
    "tags": []
   },
   "outputs": [
    {
     "name": "stderr",
     "output_type": "stream",
     "text": [
      "/lnet/aic/personal/kydliceh/o2/venv/lib/python3.10/site-packages/tqdm/auto.py:21: TqdmWarning: IProgress not found. Please update jupyter and ipywidgets. See https://ipywidgets.readthedocs.io/en/stable/user_install.html\n",
      "  from .autonotebook import tqdm as notebook_tqdm\n"
     ]
    }
   ],
   "source": [
    "from transformers import AutoTokenizer, PreTrainedTokenizer\n",
    "from datasets import Dataset, ClassLabel\n",
    "labels = test[\"usefulness\"].unique().tolist()\n",
    "\n",
    "\n",
    "def add_tokenization(dst: Dataset, tokenizer: PreTrainedTokenizer):\n",
    "    def tokenize(batch):\n",
    "        return tokenizer(batch[\"text\"], padding=\"max_length\", truncation=True)\n",
    "    \n",
    "    return dst.map(tokenize, batched=True, batch_size=1000)\n",
    "\n",
    "def convert_to_hf_trainable_dataset(df: pd.DataFrame, tokenizer: PreTrainedTokenizer):\n",
    "    dataset = Dataset.from_pandas(df)\n",
    "    dataset = dataset.cast_column(\"usefulness\", ClassLabel(names=labels))\n",
    "    dataset = dataset.rename_column(\"usefulness\", \"labels\")\n",
    "    dataset = add_tokenization(dataset, tokenizer)\n",
    "    return dataset"
   ]
  },
  {
   "cell_type": "code",
   "execution_count": 5,
   "id": "c83a01ae",
   "metadata": {
    "execution": {
     "iopub.execute_input": "2023-06-06T23:34:16.230151Z",
     "iopub.status.busy": "2023-06-06T23:34:16.229415Z",
     "iopub.status.idle": "2023-06-06T23:38:29.720140Z",
     "shell.execute_reply": "2023-06-06T23:38:29.718901Z"
    },
    "papermill": {
     "duration": 253.502289,
     "end_time": "2023-06-06T23:38:29.722533",
     "exception": false,
     "start_time": "2023-06-06T23:34:16.220244",
     "status": "completed"
    },
    "tags": []
   },
   "outputs": [
    {
     "name": "stderr",
     "output_type": "stream",
     "text": [
      "\r",
      "Casting the dataset:   0%|                                                                                                                                           | 0/9000 [00:00<?, ? examples/s]"
     ]
    },
    {
     "name": "stderr",
     "output_type": "stream",
     "text": [
      "\r",
      "                                                                                                                                                                                                     "
     ]
    },
    {
     "name": "stderr",
     "output_type": "stream",
     "text": [
      "\r"
     ]
    },
    {
     "name": "stderr",
     "output_type": "stream",
     "text": [
      "\r",
      "Map:   0%|                                                                                                                                                           | 0/9000 [00:00<?, ? examples/s]"
     ]
    },
    {
     "name": "stderr",
     "output_type": "stream",
     "text": [
      "\r",
      "Map:  11%|███████████████▊                                                                                                                              | 1000/9000 [00:00<00:05, 1509.77 examples/s]"
     ]
    },
    {
     "name": "stderr",
     "output_type": "stream",
     "text": [
      "\r",
      "Map:  22%|███████████████████████████████▌                                                                                                              | 2000/9000 [00:01<00:04, 1452.14 examples/s]"
     ]
    },
    {
     "name": "stderr",
     "output_type": "stream",
     "text": [
      "\r",
      "Map:  33%|███████████████████████████████████████████████▎                                                                                              | 3000/9000 [00:02<00:04, 1447.10 examples/s]"
     ]
    },
    {
     "name": "stderr",
     "output_type": "stream",
     "text": [
      "\r",
      "Map:  44%|███████████████████████████████████████████████████████████████                                                                               | 4000/9000 [00:02<00:03, 1486.54 examples/s]"
     ]
    },
    {
     "name": "stderr",
     "output_type": "stream",
     "text": [
      "\r",
      "Map:  56%|██████████████████████████████████████████████████████████████████████████████▉                                                               | 5000/9000 [00:03<00:02, 1394.67 examples/s]"
     ]
    },
    {
     "name": "stderr",
     "output_type": "stream",
     "text": [
      "\r",
      "Map:  67%|██████████████████████████████████████████████████████████████████████████████████████████████▋                                               | 6000/9000 [00:04<00:02, 1411.83 examples/s]"
     ]
    },
    {
     "name": "stderr",
     "output_type": "stream",
     "text": [
      "\r",
      "Map:  78%|██████████████████████████████████████████████████████████████████████████████████████████████████████████████▍                               | 7000/9000 [00:04<00:01, 1425.66 examples/s]"
     ]
    },
    {
     "name": "stderr",
     "output_type": "stream",
     "text": [
      "\r",
      "Map:  89%|██████████████████████████████████████████████████████████████████████████████████████████████████████████████████████████████▏               | 8000/9000 [00:05<00:00, 1446.24 examples/s]"
     ]
    },
    {
     "name": "stderr",
     "output_type": "stream",
     "text": [
      "\r",
      "Map: 100%|██████████████████████████████████████████████████████████████████████████████████████████████████████████████████████████████████████████████| 9000/9000 [00:06<00:00, 1466.03 examples/s]"
     ]
    },
    {
     "name": "stderr",
     "output_type": "stream",
     "text": [
      "\r",
      "                                                                                                                                                                                                     "
     ]
    },
    {
     "name": "stderr",
     "output_type": "stream",
     "text": [
      "\r"
     ]
    },
    {
     "name": "stderr",
     "output_type": "stream",
     "text": [
      "\r",
      "Casting the dataset:   0%|                                                                                                                                         | 0/350647 [00:00<?, ? examples/s]"
     ]
    },
    {
     "name": "stderr",
     "output_type": "stream",
     "text": [
      "\r",
      "Casting the dataset:   5%|██████▏                                                                                                                  | 18000/350647 [00:00<00:02, 164555.65 examples/s]"
     ]
    },
    {
     "name": "stderr",
     "output_type": "stream",
     "text": [
      "\r",
      "Casting the dataset:  10%|████████████▍                                                                                                            | 36000/350647 [00:00<00:01, 166077.90 examples/s]"
     ]
    },
    {
     "name": "stderr",
     "output_type": "stream",
     "text": [
      "\r",
      "Casting the dataset:  16%|██████████████████▉                                                                                                      | 55000/350647 [00:00<00:01, 153087.44 examples/s]"
     ]
    },
    {
     "name": "stderr",
     "output_type": "stream",
     "text": [
      "\r",
      "Casting the dataset:  22%|██████████████████████████▏                                                                                              | 76000/350647 [00:00<00:01, 171280.52 examples/s]"
     ]
    },
    {
     "name": "stderr",
     "output_type": "stream",
     "text": [
      "\r",
      "Casting the dataset:  27%|█████████████████████████████████▏                                                                                       | 96000/350647 [00:00<00:01, 140470.29 examples/s]"
     ]
    },
    {
     "name": "stderr",
     "output_type": "stream",
     "text": [
      "\r",
      "Casting the dataset:  34%|████████████████████████████████████████▍                                                                               | 118000/350647 [00:00<00:01, 160771.18 examples/s]"
     ]
    },
    {
     "name": "stderr",
     "output_type": "stream",
     "text": [
      "\r",
      "Casting the dataset:  40%|███████████████████████████████████████████████▌                                                                        | 139000/350647 [00:00<00:01, 171805.47 examples/s]"
     ]
    },
    {
     "name": "stderr",
     "output_type": "stream",
     "text": [
      "\r",
      "Casting the dataset:  45%|██████████████████████████████████████████████████████▍                                                                 | 159000/350647 [00:00<00:01, 176927.57 examples/s]"
     ]
    },
    {
     "name": "stderr",
     "output_type": "stream",
     "text": [
      "\r",
      "Casting the dataset:  51%|█████████████████████████████████████████████████████████████▌                                                          | 180000/350647 [00:01<00:01, 121308.57 examples/s]"
     ]
    },
    {
     "name": "stderr",
     "output_type": "stream",
     "text": [
      "\r",
      "Casting the dataset:  57%|████████████████████████████████████████████████████████████████████▊                                                   | 201000/350647 [00:01<00:01, 138277.65 examples/s]"
     ]
    },
    {
     "name": "stderr",
     "output_type": "stream",
     "text": [
      "\r",
      "Casting the dataset:  63%|███████████████████████████████████████████████████████████████████████████▉                                            | 222000/350647 [00:01<00:00, 152819.42 examples/s]"
     ]
    },
    {
     "name": "stderr",
     "output_type": "stream",
     "text": [
      "\r",
      "Casting the dataset:  69%|██████████████████████████████████████████████████████████████████████████████████▊                                     | 242000/350647 [00:01<00:00, 163790.09 examples/s]"
     ]
    },
    {
     "name": "stderr",
     "output_type": "stream",
     "text": [
      "\r",
      "Casting the dataset:  75%|██████████████████████████████████████████████████████████████████████████████████████████                              | 263000/350647 [00:01<00:00, 174468.80 examples/s]"
     ]
    },
    {
     "name": "stderr",
     "output_type": "stream",
     "text": [
      "\r",
      "Casting the dataset:  81%|█████████████████████████████████████████████████████████████████████████████████████████████████▏                      | 284000/350647 [00:01<00:00, 182748.36 examples/s]"
     ]
    },
    {
     "name": "stderr",
     "output_type": "stream",
     "text": [
      "\r",
      "Casting the dataset:  87%|████████████████████████████████████████████████████████████████████████████████████████████████████████▍               | 305000/350647 [00:01<00:00, 188517.53 examples/s]"
     ]
    },
    {
     "name": "stderr",
     "output_type": "stream",
     "text": [
      "\r",
      "Casting the dataset:  93%|███████████████████████████████████████████████████████████████████████████████████████████████████████████████▌        | 326000/350647 [00:01<00:00, 191780.30 examples/s]"
     ]
    },
    {
     "name": "stderr",
     "output_type": "stream",
     "text": [
      "\r",
      "Casting the dataset: 100%|███████████████████████████████████████████████████████████████████████████████████████████████████████████████████████▍| 349000/350647 [00:02<00:00, 101880.50 examples/s]"
     ]
    },
    {
     "name": "stderr",
     "output_type": "stream",
     "text": [
      "\r",
      "                                                                                                                                                                                                     "
     ]
    },
    {
     "name": "stderr",
     "output_type": "stream",
     "text": [
      "\r"
     ]
    },
    {
     "name": "stderr",
     "output_type": "stream",
     "text": [
      "\r",
      "Map:   0%|                                                                                                                                                         | 0/350647 [00:00<?, ? examples/s]"
     ]
    },
    {
     "name": "stderr",
     "output_type": "stream",
     "text": [
      "\r",
      "Map:   0%|▍                                                                                                                                           | 1000/350647 [00:00<03:42, 1569.62 examples/s]"
     ]
    },
    {
     "name": "stderr",
     "output_type": "stream",
     "text": [
      "\r",
      "Map:   1%|▊                                                                                                                                           | 2000/350647 [00:01<03:53, 1491.80 examples/s]"
     ]
    },
    {
     "name": "stderr",
     "output_type": "stream",
     "text": [
      "\r",
      "Map:   1%|█▏                                                                                                                                          | 3000/350647 [00:02<04:03, 1428.13 examples/s]"
     ]
    },
    {
     "name": "stderr",
     "output_type": "stream",
     "text": [
      "\r",
      "Map:   1%|█▌                                                                                                                                          | 4000/350647 [00:02<03:59, 1446.50 examples/s]"
     ]
    },
    {
     "name": "stderr",
     "output_type": "stream",
     "text": [
      "\r",
      "Map:   1%|█▉                                                                                                                                          | 5000/350647 [00:03<03:51, 1495.85 examples/s]"
     ]
    },
    {
     "name": "stderr",
     "output_type": "stream",
     "text": [
      "\r",
      "Map:   2%|██▍                                                                                                                                         | 6000/350647 [00:04<03:56, 1459.38 examples/s]"
     ]
    },
    {
     "name": "stderr",
     "output_type": "stream",
     "text": [
      "\r",
      "Map:   2%|██▊                                                                                                                                         | 7000/350647 [00:04<03:52, 1479.05 examples/s]"
     ]
    },
    {
     "name": "stderr",
     "output_type": "stream",
     "text": [
      "\r",
      "Map:   2%|███▏                                                                                                                                        | 8000/350647 [00:05<03:51, 1482.83 examples/s]"
     ]
    },
    {
     "name": "stderr",
     "output_type": "stream",
     "text": [
      "\r",
      "Map:   3%|███▌                                                                                                                                        | 9000/350647 [00:06<03:47, 1501.58 examples/s]"
     ]
    },
    {
     "name": "stderr",
     "output_type": "stream",
     "text": [
      "\r",
      "Map:   3%|███▉                                                                                                                                       | 10000/350647 [00:06<03:48, 1492.57 examples/s]"
     ]
    },
    {
     "name": "stderr",
     "output_type": "stream",
     "text": [
      "\r",
      "Map:   3%|████▎                                                                                                                                      | 11000/350647 [00:07<03:45, 1507.60 examples/s]"
     ]
    },
    {
     "name": "stderr",
     "output_type": "stream",
     "text": [
      "\r",
      "Map:   3%|████▊                                                                                                                                      | 12000/350647 [00:08<03:55, 1435.51 examples/s]"
     ]
    },
    {
     "name": "stderr",
     "output_type": "stream",
     "text": [
      "\r",
      "Map:   4%|█████▏                                                                                                                                     | 13000/350647 [00:08<03:56, 1426.59 examples/s]"
     ]
    },
    {
     "name": "stderr",
     "output_type": "stream",
     "text": [
      "\r",
      "Map:   4%|█████▌                                                                                                                                     | 14000/350647 [00:09<03:53, 1439.42 examples/s]"
     ]
    },
    {
     "name": "stderr",
     "output_type": "stream",
     "text": [
      "\r",
      "Map:   4%|█████▉                                                                                                                                     | 15000/350647 [00:10<03:54, 1433.18 examples/s]"
     ]
    },
    {
     "name": "stderr",
     "output_type": "stream",
     "text": [
      "\r",
      "Map:   5%|██████▎                                                                                                                                    | 16000/350647 [00:10<03:50, 1450.05 examples/s]"
     ]
    },
    {
     "name": "stderr",
     "output_type": "stream",
     "text": [
      "\r",
      "Map:   5%|██████▋                                                                                                                                    | 17000/350647 [00:11<03:53, 1426.48 examples/s]"
     ]
    },
    {
     "name": "stderr",
     "output_type": "stream",
     "text": [
      "\r",
      "Map:   5%|███████▏                                                                                                                                   | 18000/350647 [00:12<03:51, 1436.29 examples/s]"
     ]
    },
    {
     "name": "stderr",
     "output_type": "stream",
     "text": [
      "\r",
      "Map:   5%|███████▌                                                                                                                                   | 19000/350647 [00:12<03:45, 1471.11 examples/s]"
     ]
    },
    {
     "name": "stderr",
     "output_type": "stream",
     "text": [
      "\r",
      "Map:   6%|███████▉                                                                                                                                   | 20000/350647 [00:13<03:43, 1479.80 examples/s]"
     ]
    },
    {
     "name": "stderr",
     "output_type": "stream",
     "text": [
      "\r",
      "Map:   6%|████████▎                                                                                                                                  | 21000/350647 [00:14<03:45, 1462.08 examples/s]"
     ]
    },
    {
     "name": "stderr",
     "output_type": "stream",
     "text": [
      "\r",
      "Map:   6%|████████▋                                                                                                                                  | 22000/350647 [00:15<03:46, 1449.85 examples/s]"
     ]
    },
    {
     "name": "stderr",
     "output_type": "stream",
     "text": [
      "\r",
      "Map:   7%|█████████                                                                                                                                  | 23000/350647 [00:15<03:42, 1474.91 examples/s]"
     ]
    },
    {
     "name": "stderr",
     "output_type": "stream",
     "text": [
      "\r",
      "Map:   7%|█████████▌                                                                                                                                 | 24000/350647 [00:16<03:39, 1489.00 examples/s]"
     ]
    },
    {
     "name": "stderr",
     "output_type": "stream",
     "text": [
      "\r",
      "Map:   7%|█████████▉                                                                                                                                 | 25000/350647 [00:17<03:39, 1486.08 examples/s]"
     ]
    },
    {
     "name": "stderr",
     "output_type": "stream",
     "text": [
      "\r",
      "Map:   7%|██████████▎                                                                                                                                | 26000/350647 [00:17<03:38, 1482.49 examples/s]"
     ]
    },
    {
     "name": "stderr",
     "output_type": "stream",
     "text": [
      "\r",
      "Map:   8%|██████████▋                                                                                                                                | 27000/350647 [00:18<03:47, 1420.48 examples/s]"
     ]
    },
    {
     "name": "stderr",
     "output_type": "stream",
     "text": [
      "\r",
      "Map:   8%|███████████                                                                                                                                | 28000/350647 [00:19<03:45, 1432.14 examples/s]"
     ]
    },
    {
     "name": "stderr",
     "output_type": "stream",
     "text": [
      "\r",
      "Map:   8%|███████████▍                                                                                                                               | 29000/350647 [00:19<03:52, 1381.23 examples/s]"
     ]
    },
    {
     "name": "stderr",
     "output_type": "stream",
     "text": [
      "\r",
      "Map:   9%|███████████▉                                                                                                                               | 30000/350647 [00:20<03:47, 1410.96 examples/s]"
     ]
    },
    {
     "name": "stderr",
     "output_type": "stream",
     "text": [
      "\r",
      "Map:   9%|████████████▎                                                                                                                              | 31000/350647 [00:21<03:41, 1445.52 examples/s]"
     ]
    },
    {
     "name": "stderr",
     "output_type": "stream",
     "text": [
      "\r",
      "Map:   9%|████████████▋                                                                                                                              | 32000/350647 [00:21<03:41, 1437.73 examples/s]"
     ]
    },
    {
     "name": "stderr",
     "output_type": "stream",
     "text": [
      "\r",
      "Map:   9%|█████████████                                                                                                                              | 33000/350647 [00:22<03:41, 1433.46 examples/s]"
     ]
    },
    {
     "name": "stderr",
     "output_type": "stream",
     "text": [
      "\r",
      "Map:  10%|█████████████▍                                                                                                                             | 34000/350647 [00:23<03:34, 1473.08 examples/s]"
     ]
    },
    {
     "name": "stderr",
     "output_type": "stream",
     "text": [
      "\r",
      "Map:  10%|█████████████▊                                                                                                                             | 35000/350647 [00:23<03:32, 1486.85 examples/s]"
     ]
    },
    {
     "name": "stderr",
     "output_type": "stream",
     "text": [
      "\r",
      "Map:  10%|██████████████▎                                                                                                                            | 36000/350647 [00:24<03:32, 1481.87 examples/s]"
     ]
    },
    {
     "name": "stderr",
     "output_type": "stream",
     "text": [
      "\r",
      "Map:  11%|██████████████▋                                                                                                                            | 37000/350647 [00:25<03:33, 1471.10 examples/s]"
     ]
    },
    {
     "name": "stderr",
     "output_type": "stream",
     "text": [
      "\r",
      "Map:  11%|███████████████                                                                                                                            | 38000/350647 [00:26<03:31, 1481.65 examples/s]"
     ]
    },
    {
     "name": "stderr",
     "output_type": "stream",
     "text": [
      "\r",
      "Map:  11%|███████████████▍                                                                                                                           | 39000/350647 [00:26<03:29, 1489.50 examples/s]"
     ]
    },
    {
     "name": "stderr",
     "output_type": "stream",
     "text": [
      "\r",
      "Map:  11%|███████████████▊                                                                                                                           | 40000/350647 [00:27<03:28, 1492.62 examples/s]"
     ]
    },
    {
     "name": "stderr",
     "output_type": "stream",
     "text": [
      "\r",
      "Map:  12%|████████████████▎                                                                                                                          | 41000/350647 [00:28<03:29, 1481.27 examples/s]"
     ]
    },
    {
     "name": "stderr",
     "output_type": "stream",
     "text": [
      "\r",
      "Map:  12%|████████████████▋                                                                                                                          | 42000/350647 [00:28<03:25, 1498.85 examples/s]"
     ]
    },
    {
     "name": "stderr",
     "output_type": "stream",
     "text": [
      "\r",
      "Map:  12%|█████████████████                                                                                                                          | 43000/350647 [00:29<03:25, 1497.94 examples/s]"
     ]
    },
    {
     "name": "stderr",
     "output_type": "stream",
     "text": [
      "\r",
      "Map:  13%|█████████████████▍                                                                                                                         | 44000/350647 [00:30<03:28, 1470.10 examples/s]"
     ]
    },
    {
     "name": "stderr",
     "output_type": "stream",
     "text": [
      "\r",
      "Map:  13%|█████████████████▊                                                                                                                         | 45000/350647 [00:30<03:29, 1461.25 examples/s]"
     ]
    },
    {
     "name": "stderr",
     "output_type": "stream",
     "text": [
      "\r",
      "Map:  13%|██████████████████▏                                                                                                                        | 46000/350647 [00:31<03:36, 1405.48 examples/s]"
     ]
    },
    {
     "name": "stderr",
     "output_type": "stream",
     "text": [
      "\r",
      "Map:  13%|██████████████████▋                                                                                                                        | 47000/350647 [00:32<03:34, 1414.78 examples/s]"
     ]
    },
    {
     "name": "stderr",
     "output_type": "stream",
     "text": [
      "\r",
      "Map:  14%|███████████████████                                                                                                                        | 48000/350647 [00:32<03:32, 1422.53 examples/s]"
     ]
    },
    {
     "name": "stderr",
     "output_type": "stream",
     "text": [
      "\r",
      "Map:  14%|███████████████████▍                                                                                                                       | 49000/350647 [00:33<03:28, 1447.43 examples/s]"
     ]
    },
    {
     "name": "stderr",
     "output_type": "stream",
     "text": [
      "\r",
      "Map:  14%|███████████████████▊                                                                                                                       | 50000/350647 [00:34<03:23, 1475.27 examples/s]"
     ]
    },
    {
     "name": "stderr",
     "output_type": "stream",
     "text": [
      "\r",
      "Map:  15%|████████████████████▏                                                                                                                      | 51000/350647 [00:34<03:25, 1458.92 examples/s]"
     ]
    },
    {
     "name": "stderr",
     "output_type": "stream",
     "text": [
      "\r",
      "Map:  15%|████████████████████▌                                                                                                                      | 52000/350647 [00:35<03:25, 1456.30 examples/s]"
     ]
    },
    {
     "name": "stderr",
     "output_type": "stream",
     "text": [
      "\r",
      "Map:  15%|█████████████████████                                                                                                                      | 53000/350647 [00:36<03:20, 1484.77 examples/s]"
     ]
    },
    {
     "name": "stderr",
     "output_type": "stream",
     "text": [
      "\r",
      "Map:  15%|█████████████████████▍                                                                                                                     | 54000/350647 [00:36<03:18, 1496.87 examples/s]"
     ]
    },
    {
     "name": "stderr",
     "output_type": "stream",
     "text": [
      "\r",
      "Map:  16%|█████████████████████▊                                                                                                                     | 55000/350647 [00:37<03:17, 1495.46 examples/s]"
     ]
    },
    {
     "name": "stderr",
     "output_type": "stream",
     "text": [
      "\r",
      "Map:  16%|██████████████████████▏                                                                                                                    | 56000/350647 [00:38<03:19, 1477.94 examples/s]"
     ]
    },
    {
     "name": "stderr",
     "output_type": "stream",
     "text": [
      "\r",
      "Map:  16%|██████████████████████▌                                                                                                                    | 57000/350647 [00:38<03:19, 1473.26 examples/s]"
     ]
    },
    {
     "name": "stderr",
     "output_type": "stream",
     "text": [
      "\r",
      "Map:  17%|██████████████████████▉                                                                                                                    | 58000/350647 [00:39<03:37, 1348.60 examples/s]"
     ]
    },
    {
     "name": "stderr",
     "output_type": "stream",
     "text": [
      "\r",
      "Map:  17%|███████████████████████▍                                                                                                                   | 59000/350647 [00:40<03:32, 1370.94 examples/s]"
     ]
    },
    {
     "name": "stderr",
     "output_type": "stream",
     "text": [
      "\r",
      "Map:  17%|███████████████████████▊                                                                                                                   | 60000/350647 [00:41<03:26, 1408.62 examples/s]"
     ]
    },
    {
     "name": "stderr",
     "output_type": "stream",
     "text": [
      "\r",
      "Map:  17%|████████████████████████▏                                                                                                                  | 61000/350647 [00:42<03:33, 1355.37 examples/s]"
     ]
    },
    {
     "name": "stderr",
     "output_type": "stream",
     "text": [
      "\r",
      "Map:  18%|████████████████████████▌                                                                                                                  | 62000/350647 [00:42<03:26, 1397.36 examples/s]"
     ]
    },
    {
     "name": "stderr",
     "output_type": "stream",
     "text": [
      "\r",
      "Map:  18%|████████████████████████▉                                                                                                                  | 63000/350647 [00:43<03:25, 1401.56 examples/s]"
     ]
    },
    {
     "name": "stderr",
     "output_type": "stream",
     "text": [
      "\r",
      "Map:  18%|█████████████████████████▎                                                                                                                 | 64000/350647 [00:44<03:21, 1424.91 examples/s]"
     ]
    },
    {
     "name": "stderr",
     "output_type": "stream",
     "text": [
      "\r",
      "Map:  19%|█████████████████████████▊                                                                                                                 | 65000/350647 [00:44<03:18, 1438.06 examples/s]"
     ]
    },
    {
     "name": "stderr",
     "output_type": "stream",
     "text": [
      "\r",
      "Map:  19%|██████████████████████████▏                                                                                                                | 66000/350647 [00:45<03:19, 1430.12 examples/s]"
     ]
    },
    {
     "name": "stderr",
     "output_type": "stream",
     "text": [
      "\r",
      "Map:  19%|██████████████████████████▌                                                                                                                | 67000/350647 [00:46<03:16, 1445.96 examples/s]"
     ]
    },
    {
     "name": "stderr",
     "output_type": "stream",
     "text": [
      "\r",
      "Map:  19%|██████████████████████████▉                                                                                                                | 68000/350647 [00:46<03:11, 1473.66 examples/s]"
     ]
    },
    {
     "name": "stderr",
     "output_type": "stream",
     "text": [
      "\r",
      "Map:  20%|███████████████████████████▎                                                                                                               | 69000/350647 [00:47<03:16, 1432.97 examples/s]"
     ]
    },
    {
     "name": "stderr",
     "output_type": "stream",
     "text": [
      "\r",
      "Map:  20%|███████████████████████████▋                                                                                                               | 70000/350647 [00:48<03:15, 1432.75 examples/s]"
     ]
    },
    {
     "name": "stderr",
     "output_type": "stream",
     "text": [
      "\r",
      "Map:  20%|████████████████████████████▏                                                                                                              | 71000/350647 [00:48<03:12, 1453.85 examples/s]"
     ]
    },
    {
     "name": "stderr",
     "output_type": "stream",
     "text": [
      "\r",
      "Map:  21%|████████████████████████████▌                                                                                                              | 72000/350647 [00:49<03:11, 1458.04 examples/s]"
     ]
    },
    {
     "name": "stderr",
     "output_type": "stream",
     "text": [
      "\r",
      "Map:  21%|████████████████████████████▉                                                                                                              | 73000/350647 [00:50<03:13, 1437.74 examples/s]"
     ]
    },
    {
     "name": "stderr",
     "output_type": "stream",
     "text": [
      "\r",
      "Map:  21%|█████████████████████████████▎                                                                                                             | 74000/350647 [00:50<03:12, 1437.57 examples/s]"
     ]
    },
    {
     "name": "stderr",
     "output_type": "stream",
     "text": [
      "\r",
      "Map:  21%|█████████████████████████████▋                                                                                                             | 75000/350647 [00:51<03:07, 1471.85 examples/s]"
     ]
    },
    {
     "name": "stderr",
     "output_type": "stream",
     "text": [
      "\r",
      "Map:  22%|██████████████████████████████▏                                                                                                            | 76000/350647 [00:52<03:04, 1486.32 examples/s]"
     ]
    },
    {
     "name": "stderr",
     "output_type": "stream",
     "text": [
      "\r",
      "Map:  22%|██████████████████████████████▌                                                                                                            | 77000/350647 [00:52<03:03, 1492.71 examples/s]"
     ]
    },
    {
     "name": "stderr",
     "output_type": "stream",
     "text": [
      "\r",
      "Map:  22%|██████████████████████████████▉                                                                                                            | 78000/350647 [00:53<03:04, 1480.76 examples/s]"
     ]
    },
    {
     "name": "stderr",
     "output_type": "stream",
     "text": [
      "\r",
      "Map:  23%|███████████████████████████████▎                                                                                                           | 79000/350647 [00:54<03:04, 1468.55 examples/s]"
     ]
    },
    {
     "name": "stderr",
     "output_type": "stream",
     "text": [
      "\r",
      "Map:  23%|███████████████████████████████▋                                                                                                           | 80000/350647 [00:55<03:09, 1426.88 examples/s]"
     ]
    },
    {
     "name": "stderr",
     "output_type": "stream",
     "text": [
      "\r",
      "Map:  23%|████████████████████████████████                                                                                                           | 81000/350647 [00:55<03:05, 1455.65 examples/s]"
     ]
    },
    {
     "name": "stderr",
     "output_type": "stream",
     "text": [
      "\r",
      "Map:  23%|████████████████████████████████▌                                                                                                          | 82000/350647 [00:56<03:04, 1453.60 examples/s]"
     ]
    },
    {
     "name": "stderr",
     "output_type": "stream",
     "text": [
      "\r",
      "Map:  24%|████████████████████████████████▉                                                                                                          | 83000/350647 [00:57<03:02, 1467.91 examples/s]"
     ]
    },
    {
     "name": "stderr",
     "output_type": "stream",
     "text": [
      "\r",
      "Map:  24%|█████████████████████████████████▎                                                                                                         | 84000/350647 [00:57<02:59, 1489.33 examples/s]"
     ]
    },
    {
     "name": "stderr",
     "output_type": "stream",
     "text": [
      "\r",
      "Map:  24%|█████████████████████████████████▋                                                                                                         | 85000/350647 [00:58<02:57, 1496.78 examples/s]"
     ]
    },
    {
     "name": "stderr",
     "output_type": "stream",
     "text": [
      "\r",
      "Map:  25%|██████████████████████████████████                                                                                                         | 86000/350647 [00:59<03:00, 1463.89 examples/s]"
     ]
    },
    {
     "name": "stderr",
     "output_type": "stream",
     "text": [
      "\r",
      "Map:  25%|██████████████████████████████████▍                                                                                                        | 87000/350647 [00:59<02:58, 1474.26 examples/s]"
     ]
    },
    {
     "name": "stderr",
     "output_type": "stream",
     "text": [
      "\r",
      "Map:  25%|██████████████████████████████████▉                                                                                                        | 88000/350647 [01:00<02:57, 1477.57 examples/s]"
     ]
    },
    {
     "name": "stderr",
     "output_type": "stream",
     "text": [
      "\r",
      "Map:  25%|███████████████████████████████████▎                                                                                                       | 89000/350647 [01:01<03:00, 1451.65 examples/s]"
     ]
    },
    {
     "name": "stderr",
     "output_type": "stream",
     "text": [
      "\r",
      "Map:  26%|███████████████████████████████████▋                                                                                                       | 90000/350647 [01:01<03:02, 1429.77 examples/s]"
     ]
    },
    {
     "name": "stderr",
     "output_type": "stream",
     "text": [
      "\r",
      "Map:  26%|████████████████████████████████████                                                                                                       | 91000/350647 [01:02<02:58, 1457.81 examples/s]"
     ]
    },
    {
     "name": "stderr",
     "output_type": "stream",
     "text": [
      "\r",
      "Map:  26%|████████████████████████████████████▍                                                                                                      | 92000/350647 [01:03<02:56, 1467.96 examples/s]"
     ]
    },
    {
     "name": "stderr",
     "output_type": "stream",
     "text": [
      "\r",
      "Map:  27%|████████████████████████████████████▊                                                                                                      | 93000/350647 [01:03<02:56, 1459.42 examples/s]"
     ]
    },
    {
     "name": "stderr",
     "output_type": "stream",
     "text": [
      "\r",
      "Map:  27%|█████████████████████████████████████▎                                                                                                     | 94000/350647 [01:04<02:56, 1452.98 examples/s]"
     ]
    },
    {
     "name": "stderr",
     "output_type": "stream",
     "text": [
      "\r",
      "Map:  27%|█████████████████████████████████████▋                                                                                                     | 95000/350647 [01:05<03:04, 1387.82 examples/s]"
     ]
    },
    {
     "name": "stderr",
     "output_type": "stream",
     "text": [
      "\r",
      "Map:  27%|██████████████████████████████████████                                                                                                     | 96000/350647 [01:06<02:59, 1415.54 examples/s]"
     ]
    },
    {
     "name": "stderr",
     "output_type": "stream",
     "text": [
      "\r",
      "Map:  28%|██████████████████████████████████████▍                                                                                                    | 97000/350647 [01:06<02:55, 1446.44 examples/s]"
     ]
    },
    {
     "name": "stderr",
     "output_type": "stream",
     "text": [
      "\r",
      "Map:  28%|██████████████████████████████████████▊                                                                                                    | 98000/350647 [01:07<02:52, 1465.18 examples/s]"
     ]
    },
    {
     "name": "stderr",
     "output_type": "stream",
     "text": [
      "\r",
      "Map:  28%|███████████████████████████████████████▏                                                                                                   | 99000/350647 [01:08<02:48, 1496.71 examples/s]"
     ]
    },
    {
     "name": "stderr",
     "output_type": "stream",
     "text": [
      "\r",
      "Map:  29%|███████████████████████████████████████▎                                                                                                  | 100000/350647 [01:08<02:45, 1510.74 examples/s]"
     ]
    },
    {
     "name": "stderr",
     "output_type": "stream",
     "text": [
      "\r",
      "Map:  29%|███████████████████████████████████████▋                                                                                                  | 101000/350647 [01:09<02:47, 1488.17 examples/s]"
     ]
    },
    {
     "name": "stderr",
     "output_type": "stream",
     "text": [
      "\r",
      "Map:  29%|████████████████████████████████████████▏                                                                                                 | 102000/350647 [01:10<02:48, 1477.65 examples/s]"
     ]
    },
    {
     "name": "stderr",
     "output_type": "stream",
     "text": [
      "\r",
      "Map:  29%|████████████████████████████████████████▌                                                                                                 | 103000/350647 [01:10<02:48, 1470.57 examples/s]"
     ]
    },
    {
     "name": "stderr",
     "output_type": "stream",
     "text": [
      "\r",
      "Map:  30%|████████████████████████████████████████▉                                                                                                 | 104000/350647 [01:11<02:46, 1484.49 examples/s]"
     ]
    },
    {
     "name": "stderr",
     "output_type": "stream",
     "text": [
      "\r",
      "Map:  30%|█████████████████████████████████████████▎                                                                                                | 105000/350647 [01:12<02:46, 1477.27 examples/s]"
     ]
    },
    {
     "name": "stderr",
     "output_type": "stream",
     "text": [
      "\r",
      "Map:  30%|█████████████████████████████████████████▋                                                                                                | 106000/350647 [01:12<02:47, 1459.13 examples/s]"
     ]
    },
    {
     "name": "stderr",
     "output_type": "stream",
     "text": [
      "\r",
      "Map:  31%|██████████████████████████████████████████                                                                                                | 107000/350647 [01:13<02:44, 1480.76 examples/s]"
     ]
    },
    {
     "name": "stderr",
     "output_type": "stream",
     "text": [
      "\r",
      "Map:  31%|██████████████████████████████████████████▌                                                                                               | 108000/350647 [01:14<02:44, 1478.51 examples/s]"
     ]
    },
    {
     "name": "stderr",
     "output_type": "stream",
     "text": [
      "\r",
      "Map:  31%|██████████████████████████████████████████▉                                                                                               | 109000/350647 [01:14<02:44, 1472.81 examples/s]"
     ]
    },
    {
     "name": "stderr",
     "output_type": "stream",
     "text": [
      "\r",
      "Map:  31%|███████████████████████████████████████████▎                                                                                              | 110000/350647 [01:15<02:44, 1459.40 examples/s]"
     ]
    },
    {
     "name": "stderr",
     "output_type": "stream",
     "text": [
      "\r",
      "Map:  32%|███████████████████████████████████████████▋                                                                                              | 111000/350647 [01:16<02:41, 1481.54 examples/s]"
     ]
    },
    {
     "name": "stderr",
     "output_type": "stream",
     "text": [
      "\r",
      "Map:  32%|████████████████████████████████████████████                                                                                              | 112000/350647 [01:16<02:41, 1481.84 examples/s]"
     ]
    },
    {
     "name": "stderr",
     "output_type": "stream",
     "text": [
      "\r",
      "Map:  32%|████████████████████████████████████████████▍                                                                                             | 113000/350647 [01:17<02:41, 1475.47 examples/s]"
     ]
    },
    {
     "name": "stderr",
     "output_type": "stream",
     "text": [
      "\r",
      "Map:  33%|████████████████████████████████████████████▊                                                                                             | 114000/350647 [01:18<02:48, 1403.88 examples/s]"
     ]
    },
    {
     "name": "stderr",
     "output_type": "stream",
     "text": [
      "\r",
      "Map:  33%|█████████████████████████████████████████████▎                                                                                            | 115000/350647 [01:19<03:09, 1246.68 examples/s]"
     ]
    },
    {
     "name": "stderr",
     "output_type": "stream",
     "text": [
      "\r",
      "Map:  33%|█████████████████████████████████████████████▋                                                                                            | 116000/350647 [01:20<03:02, 1286.91 examples/s]"
     ]
    },
    {
     "name": "stderr",
     "output_type": "stream",
     "text": [
      "\r",
      "Map:  33%|██████████████████████████████████████████████                                                                                            | 117000/350647 [01:20<02:58, 1307.25 examples/s]"
     ]
    },
    {
     "name": "stderr",
     "output_type": "stream",
     "text": [
      "\r",
      "Map:  34%|██████████████████████████████████████████████▍                                                                                           | 118000/350647 [01:21<02:51, 1354.64 examples/s]"
     ]
    },
    {
     "name": "stderr",
     "output_type": "stream",
     "text": [
      "\r",
      "Map:  34%|██████████████████████████████████████████████▊                                                                                           | 119000/350647 [01:22<02:47, 1381.65 examples/s]"
     ]
    },
    {
     "name": "stderr",
     "output_type": "stream",
     "text": [
      "\r",
      "Map:  34%|███████████████████████████████████████████████▏                                                                                          | 120000/350647 [01:22<02:43, 1410.92 examples/s]"
     ]
    },
    {
     "name": "stderr",
     "output_type": "stream",
     "text": [
      "\r",
      "Map:  35%|███████████████████████████████████████████████▌                                                                                          | 121000/350647 [01:23<02:42, 1409.47 examples/s]"
     ]
    },
    {
     "name": "stderr",
     "output_type": "stream",
     "text": [
      "\r",
      "Map:  35%|████████████████████████████████████████████████                                                                                          | 122000/350647 [01:24<02:41, 1413.56 examples/s]"
     ]
    },
    {
     "name": "stderr",
     "output_type": "stream",
     "text": [
      "\r",
      "Map:  35%|████████████████████████████████████████████████▍                                                                                         | 123000/350647 [01:24<02:36, 1450.03 examples/s]"
     ]
    },
    {
     "name": "stderr",
     "output_type": "stream",
     "text": [
      "\r",
      "Map:  35%|████████████████████████████████████████████████▊                                                                                         | 124000/350647 [01:25<02:36, 1449.44 examples/s]"
     ]
    },
    {
     "name": "stderr",
     "output_type": "stream",
     "text": [
      "\r",
      "Map:  36%|█████████████████████████████████████████████████▏                                                                                        | 125000/350647 [01:26<02:36, 1438.88 examples/s]"
     ]
    },
    {
     "name": "stderr",
     "output_type": "stream",
     "text": [
      "\r",
      "Map:  36%|█████████████████████████████████████████████████▌                                                                                        | 126000/350647 [01:26<02:33, 1460.62 examples/s]"
     ]
    },
    {
     "name": "stderr",
     "output_type": "stream",
     "text": [
      "\r",
      "Map:  36%|█████████████████████████████████████████████████▉                                                                                        | 127000/350647 [01:27<02:31, 1475.55 examples/s]"
     ]
    },
    {
     "name": "stderr",
     "output_type": "stream",
     "text": [
      "\r",
      "Map:  37%|██████████████████████████████████████████████████▍                                                                                       | 128000/350647 [01:28<02:30, 1479.23 examples/s]"
     ]
    },
    {
     "name": "stderr",
     "output_type": "stream",
     "text": [
      "\r",
      "Map:  37%|██████████████████████████████████████████████████▊                                                                                       | 129000/350647 [01:29<02:40, 1384.46 examples/s]"
     ]
    },
    {
     "name": "stderr",
     "output_type": "stream",
     "text": [
      "\r",
      "Map:  37%|███████████████████████████████████████████████████▏                                                                                      | 130000/350647 [01:29<02:34, 1431.45 examples/s]"
     ]
    },
    {
     "name": "stderr",
     "output_type": "stream",
     "text": [
      "\r",
      "Map:  37%|███████████████████████████████████████████████████▌                                                                                      | 131000/350647 [01:30<02:30, 1460.03 examples/s]"
     ]
    },
    {
     "name": "stderr",
     "output_type": "stream",
     "text": [
      "\r",
      "Map:  38%|███████████████████████████████████████████████████▉                                                                                      | 132000/350647 [01:31<02:29, 1457.98 examples/s]"
     ]
    },
    {
     "name": "stderr",
     "output_type": "stream",
     "text": [
      "\r",
      "Map:  38%|████████████████████████████████████████████████████▎                                                                                     | 133000/350647 [01:31<02:28, 1463.60 examples/s]"
     ]
    },
    {
     "name": "stderr",
     "output_type": "stream",
     "text": [
      "\r",
      "Map:  38%|████████████████████████████████████████████████████▋                                                                                     | 134000/350647 [01:32<02:25, 1484.60 examples/s]"
     ]
    },
    {
     "name": "stderr",
     "output_type": "stream",
     "text": [
      "\r",
      "Map:  39%|█████████████████████████████████████████████████████▏                                                                                    | 135000/350647 [01:33<02:25, 1480.24 examples/s]"
     ]
    },
    {
     "name": "stderr",
     "output_type": "stream",
     "text": [
      "\r",
      "Map:  39%|█████████████████████████████████████████████████████▌                                                                                    | 136000/350647 [01:33<02:26, 1469.15 examples/s]"
     ]
    },
    {
     "name": "stderr",
     "output_type": "stream",
     "text": [
      "\r",
      "Map:  39%|█████████████████████████████████████████████████████▉                                                                                    | 137000/350647 [01:34<02:25, 1464.50 examples/s]"
     ]
    },
    {
     "name": "stderr",
     "output_type": "stream",
     "text": [
      "\r",
      "Map:  39%|██████████████████████████████████████████████████████▎                                                                                   | 138000/350647 [01:35<02:23, 1481.34 examples/s]"
     ]
    },
    {
     "name": "stderr",
     "output_type": "stream",
     "text": [
      "\r",
      "Map:  40%|██████████████████████████████████████████████████████▋                                                                                   | 139000/350647 [01:35<02:22, 1482.95 examples/s]"
     ]
    },
    {
     "name": "stderr",
     "output_type": "stream",
     "text": [
      "\r",
      "Map:  40%|███████████████████████████████████████████████████████                                                                                   | 140000/350647 [01:36<02:23, 1472.50 examples/s]"
     ]
    },
    {
     "name": "stderr",
     "output_type": "stream",
     "text": [
      "\r",
      "Map:  40%|███████████████████████████████████████████████████████▍                                                                                  | 141000/350647 [01:37<02:23, 1462.31 examples/s]"
     ]
    },
    {
     "name": "stderr",
     "output_type": "stream",
     "text": [
      "\r",
      "Map:  40%|███████████████████████████████████████████████████████▉                                                                                  | 142000/350647 [01:37<02:21, 1477.07 examples/s]"
     ]
    },
    {
     "name": "stderr",
     "output_type": "stream",
     "text": [
      "\r",
      "Map:  41%|████████████████████████████████████████████████████████▎                                                                                 | 143000/350647 [01:38<02:19, 1491.10 examples/s]"
     ]
    },
    {
     "name": "stderr",
     "output_type": "stream",
     "text": [
      "\r",
      "Map:  41%|████████████████████████████████████████████████████████▋                                                                                 | 144000/350647 [01:39<02:21, 1461.24 examples/s]"
     ]
    },
    {
     "name": "stderr",
     "output_type": "stream",
     "text": [
      "\r",
      "Map:  41%|█████████████████████████████████████████████████████████                                                                                 | 145000/350647 [01:39<02:21, 1456.84 examples/s]"
     ]
    },
    {
     "name": "stderr",
     "output_type": "stream",
     "text": [
      "\r",
      "Map:  42%|█████████████████████████████████████████████████████████▍                                                                                | 146000/350647 [01:40<02:20, 1457.14 examples/s]"
     ]
    },
    {
     "name": "stderr",
     "output_type": "stream",
     "text": [
      "\r",
      "Map:  42%|█████████████████████████████████████████████████████████▊                                                                                | 147000/350647 [01:41<02:18, 1468.33 examples/s]"
     ]
    },
    {
     "name": "stderr",
     "output_type": "stream",
     "text": [
      "\r",
      "Map:  42%|██████████████████████████████████████████████████████████▏                                                                               | 148000/350647 [01:42<02:25, 1397.31 examples/s]"
     ]
    },
    {
     "name": "stderr",
     "output_type": "stream",
     "text": [
      "\r",
      "Map:  42%|██████████████████████████████████████████████████████████▋                                                                               | 149000/350647 [01:42<02:23, 1406.47 examples/s]"
     ]
    },
    {
     "name": "stderr",
     "output_type": "stream",
     "text": [
      "\r",
      "Map:  43%|███████████████████████████████████████████████████████████                                                                               | 150000/350647 [01:43<02:19, 1438.75 examples/s]"
     ]
    },
    {
     "name": "stderr",
     "output_type": "stream",
     "text": [
      "\r",
      "Map:  43%|███████████████████████████████████████████████████████████▍                                                                              | 151000/350647 [01:44<02:17, 1455.34 examples/s]"
     ]
    },
    {
     "name": "stderr",
     "output_type": "stream",
     "text": [
      "\r",
      "Map:  43%|███████████████████████████████████████████████████████████▊                                                                              | 152000/350647 [01:44<02:19, 1424.87 examples/s]"
     ]
    },
    {
     "name": "stderr",
     "output_type": "stream",
     "text": [
      "\r",
      "Map:  44%|████████████████████████████████████████████████████████████▏                                                                             | 153000/350647 [01:45<02:16, 1443.87 examples/s]"
     ]
    },
    {
     "name": "stderr",
     "output_type": "stream",
     "text": [
      "\r",
      "Map:  44%|████████████████████████████████████████████████████████████▌                                                                             | 154000/350647 [01:46<02:14, 1466.29 examples/s]"
     ]
    },
    {
     "name": "stderr",
     "output_type": "stream",
     "text": [
      "\r",
      "Map:  44%|█████████████████████████████████████████████████████████████                                                                             | 155000/350647 [01:46<02:11, 1484.33 examples/s]"
     ]
    },
    {
     "name": "stderr",
     "output_type": "stream",
     "text": [
      "\r",
      "Map:  44%|█████████████████████████████████████████████████████████████▍                                                                            | 156000/350647 [01:47<02:12, 1473.18 examples/s]"
     ]
    },
    {
     "name": "stderr",
     "output_type": "stream",
     "text": [
      "\r",
      "Map:  45%|█████████████████████████████████████████████████████████████▊                                                                            | 157000/350647 [01:48<02:09, 1489.72 examples/s]"
     ]
    },
    {
     "name": "stderr",
     "output_type": "stream",
     "text": [
      "\r",
      "Map:  45%|██████████████████████████████████████████████████████████████▏                                                                           | 158000/350647 [01:48<02:07, 1505.31 examples/s]"
     ]
    },
    {
     "name": "stderr",
     "output_type": "stream",
     "text": [
      "\r",
      "Map:  45%|██████████████████████████████████████████████████████████████▌                                                                           | 159000/350647 [01:49<02:09, 1479.89 examples/s]"
     ]
    },
    {
     "name": "stderr",
     "output_type": "stream",
     "text": [
      "\r",
      "Map:  46%|██████████████████████████████████████████████████████████████▉                                                                           | 160000/350647 [01:50<02:10, 1465.38 examples/s]"
     ]
    },
    {
     "name": "stderr",
     "output_type": "stream",
     "text": [
      "\r",
      "Map:  46%|███████████████████████████████████████████████████████████████▎                                                                          | 161000/350647 [01:50<02:09, 1465.17 examples/s]"
     ]
    },
    {
     "name": "stderr",
     "output_type": "stream",
     "text": [
      "\r",
      "Map:  46%|███████████████████████████████████████████████████████████████▊                                                                          | 162000/350647 [01:51<02:07, 1478.49 examples/s]"
     ]
    },
    {
     "name": "stderr",
     "output_type": "stream",
     "text": [
      "\r",
      "Map:  46%|████████████████████████████████████████████████████████████████▏                                                                         | 163000/350647 [01:52<02:13, 1405.67 examples/s]"
     ]
    },
    {
     "name": "stderr",
     "output_type": "stream",
     "text": [
      "\r",
      "Map:  47%|████████████████████████████████████████████████████████████████▌                                                                         | 164000/350647 [01:53<02:13, 1401.61 examples/s]"
     ]
    },
    {
     "name": "stderr",
     "output_type": "stream",
     "text": [
      "\r",
      "Map:  47%|████████████████████████████████████████████████████████████████▉                                                                         | 165000/350647 [01:53<02:12, 1405.11 examples/s]"
     ]
    },
    {
     "name": "stderr",
     "output_type": "stream",
     "text": [
      "\r",
      "Map:  47%|█████████████████████████████████████████████████████████████████▎                                                                        | 166000/350647 [01:54<02:08, 1438.48 examples/s]"
     ]
    },
    {
     "name": "stderr",
     "output_type": "stream",
     "text": [
      "\r",
      "Map:  48%|█████████████████████████████████████████████████████████████████▋                                                                        | 167000/350647 [01:55<02:06, 1454.93 examples/s]"
     ]
    },
    {
     "name": "stderr",
     "output_type": "stream",
     "text": [
      "\r",
      "Map:  48%|██████████████████████████████████████████████████████████████████                                                                        | 168000/350647 [01:55<02:05, 1458.37 examples/s]"
     ]
    },
    {
     "name": "stderr",
     "output_type": "stream",
     "text": [
      "\r",
      "Map:  48%|██████████████████████████████████████████████████████████████████▌                                                                       | 169000/350647 [01:56<02:02, 1479.58 examples/s]"
     ]
    },
    {
     "name": "stderr",
     "output_type": "stream",
     "text": [
      "\r",
      "Map:  48%|██████████████████████████████████████████████████████████████████▉                                                                       | 170000/350647 [01:57<02:01, 1484.16 examples/s]"
     ]
    },
    {
     "name": "stderr",
     "output_type": "stream",
     "text": [
      "\r",
      "Map:  49%|███████████████████████████████████████████████████████████████████▎                                                                      | 171000/350647 [01:57<02:01, 1476.49 examples/s]"
     ]
    },
    {
     "name": "stderr",
     "output_type": "stream",
     "text": [
      "\r",
      "Map:  49%|███████████████████████████████████████████████████████████████████▋                                                                      | 172000/350647 [01:58<02:02, 1464.20 examples/s]"
     ]
    },
    {
     "name": "stderr",
     "output_type": "stream",
     "text": [
      "\r",
      "Map:  49%|████████████████████████████████████████████████████████████████████                                                                      | 173000/350647 [01:59<02:00, 1478.78 examples/s]"
     ]
    },
    {
     "name": "stderr",
     "output_type": "stream",
     "text": [
      "\r",
      "Map:  50%|████████████████████████████████████████████████████████████████████▍                                                                     | 174000/350647 [01:59<01:59, 1478.72 examples/s]"
     ]
    },
    {
     "name": "stderr",
     "output_type": "stream",
     "text": [
      "\r",
      "Map:  50%|████████████████████████████████████████████████████████████████████▊                                                                     | 175000/350647 [02:00<01:59, 1466.02 examples/s]"
     ]
    },
    {
     "name": "stderr",
     "output_type": "stream",
     "text": [
      "\r",
      "Map:  50%|█████████████████████████████████████████████████████████████████████▎                                                                    | 176000/350647 [02:01<01:58, 1477.29 examples/s]"
     ]
    },
    {
     "name": "stderr",
     "output_type": "stream",
     "text": [
      "\r",
      "Map:  50%|█████████████████████████████████████████████████████████████████████▋                                                                    | 177000/350647 [02:01<01:55, 1501.11 examples/s]"
     ]
    },
    {
     "name": "stderr",
     "output_type": "stream",
     "text": [
      "\r",
      "Map:  51%|██████████████████████████████████████████████████████████████████████                                                                    | 178000/350647 [02:02<01:56, 1485.50 examples/s]"
     ]
    },
    {
     "name": "stderr",
     "output_type": "stream",
     "text": [
      "\r",
      "Map:  51%|██████████████████████████████████████████████████████████████████████▍                                                                   | 179000/350647 [02:03<02:00, 1429.05 examples/s]"
     ]
    },
    {
     "name": "stderr",
     "output_type": "stream",
     "text": [
      "\r",
      "Map:  51%|██████████████████████████████████████████████████████████████████████▊                                                                   | 180000/350647 [02:03<01:59, 1424.02 examples/s]"
     ]
    },
    {
     "name": "stderr",
     "output_type": "stream",
     "text": [
      "\r",
      "Map:  52%|███████████████████████████████████████████████████████████████████████▏                                                                  | 181000/350647 [02:04<01:56, 1453.89 examples/s]"
     ]
    },
    {
     "name": "stderr",
     "output_type": "stream",
     "text": [
      "\r",
      "Map:  52%|███████████████████████████████████████████████████████████████████████▋                                                                  | 182000/350647 [02:05<01:59, 1406.90 examples/s]"
     ]
    },
    {
     "name": "stderr",
     "output_type": "stream",
     "text": [
      "\r",
      "Map:  52%|████████████████████████████████████████████████████████████████████████                                                                  | 183000/350647 [02:06<01:59, 1405.99 examples/s]"
     ]
    },
    {
     "name": "stderr",
     "output_type": "stream",
     "text": [
      "\r",
      "Map:  52%|████████████████████████████████████████████████████████████████████████▍                                                                 | 184000/350647 [02:06<01:56, 1428.32 examples/s]"
     ]
    },
    {
     "name": "stderr",
     "output_type": "stream",
     "text": [
      "\r",
      "Map:  53%|████████████████████████████████████████████████████████████████████████▊                                                                 | 185000/350647 [02:07<01:55, 1439.83 examples/s]"
     ]
    },
    {
     "name": "stderr",
     "output_type": "stream",
     "text": [
      "\r",
      "Map:  53%|█████████████████████████████████████████████████████████████████████████▏                                                                | 186000/350647 [02:08<01:53, 1455.90 examples/s]"
     ]
    },
    {
     "name": "stderr",
     "output_type": "stream",
     "text": [
      "\r",
      "Map:  53%|█████████████████████████████████████████████████████████████████████████▌                                                                | 187000/350647 [02:08<01:53, 1440.44 examples/s]"
     ]
    },
    {
     "name": "stderr",
     "output_type": "stream",
     "text": [
      "\r",
      "Map:  54%|█████████████████████████████████████████████████████████████████████████▉                                                                | 188000/350647 [02:09<01:50, 1475.41 examples/s]"
     ]
    },
    {
     "name": "stderr",
     "output_type": "stream",
     "text": [
      "\r",
      "Map:  54%|██████████████████████████████████████████████████████████████████████████▍                                                               | 189000/350647 [02:10<01:47, 1508.01 examples/s]"
     ]
    },
    {
     "name": "stderr",
     "output_type": "stream",
     "text": [
      "\r",
      "Map:  54%|██████████████████████████████████████████████████████████████████████████▊                                                               | 190000/350647 [02:10<01:46, 1510.83 examples/s]"
     ]
    },
    {
     "name": "stderr",
     "output_type": "stream",
     "text": [
      "\r",
      "Map:  54%|███████████████████████████████████████████████████████████████████████████▏                                                              | 191000/350647 [02:11<01:48, 1473.15 examples/s]"
     ]
    },
    {
     "name": "stderr",
     "output_type": "stream",
     "text": [
      "\r",
      "Map:  55%|███████████████████████████████████████████████████████████████████████████▌                                                              | 192000/350647 [02:12<01:48, 1468.65 examples/s]"
     ]
    },
    {
     "name": "stderr",
     "output_type": "stream",
     "text": [
      "\r",
      "Map:  55%|███████████████████████████████████████████████████████████████████████████▉                                                              | 193000/350647 [02:12<01:46, 1479.34 examples/s]"
     ]
    },
    {
     "name": "stderr",
     "output_type": "stream",
     "text": [
      "\r",
      "Map:  55%|████████████████████████████████████████████████████████████████████████████▎                                                             | 194000/350647 [02:13<01:47, 1456.38 examples/s]"
     ]
    },
    {
     "name": "stderr",
     "output_type": "stream",
     "text": [
      "\r",
      "Map:  56%|████████████████████████████████████████████████████████████████████████████▋                                                             | 195000/350647 [02:14<01:47, 1446.12 examples/s]"
     ]
    },
    {
     "name": "stderr",
     "output_type": "stream",
     "text": [
      "\r",
      "Map:  56%|█████████████████████████████████████████████████████████████████████████████▏                                                            | 196000/350647 [02:14<01:45, 1463.61 examples/s]"
     ]
    },
    {
     "name": "stderr",
     "output_type": "stream",
     "text": [
      "\r",
      "Map:  56%|█████████████████████████████████████████████████████████████████████████████▌                                                            | 197000/350647 [02:15<01:48, 1410.63 examples/s]"
     ]
    },
    {
     "name": "stderr",
     "output_type": "stream",
     "text": [
      "\r",
      "Map:  56%|█████████████████████████████████████████████████████████████████████████████▉                                                            | 198000/350647 [02:16<01:47, 1421.63 examples/s]"
     ]
    },
    {
     "name": "stderr",
     "output_type": "stream",
     "text": [
      "\r",
      "Map:  57%|██████████████████████████████████████████████████████████████████████████████▎                                                           | 199000/350647 [02:17<01:45, 1431.23 examples/s]"
     ]
    },
    {
     "name": "stderr",
     "output_type": "stream",
     "text": [
      "\r",
      "Map:  57%|██████████████████████████████████████████████████████████████████████████████▋                                                           | 200000/350647 [02:17<01:43, 1459.61 examples/s]"
     ]
    },
    {
     "name": "stderr",
     "output_type": "stream",
     "text": [
      "\r",
      "Map:  57%|███████████████████████████████████████████████████████████████████████████████                                                           | 201000/350647 [02:18<01:42, 1462.84 examples/s]"
     ]
    },
    {
     "name": "stderr",
     "output_type": "stream",
     "text": [
      "\r",
      "Map:  58%|███████████████████████████████████████████████████████████████████████████████▍                                                          | 202000/350647 [02:19<01:45, 1412.61 examples/s]"
     ]
    },
    {
     "name": "stderr",
     "output_type": "stream",
     "text": [
      "\r",
      "Map:  58%|███████████████████████████████████████████████████████████████████████████████▉                                                          | 203000/350647 [02:19<01:42, 1436.82 examples/s]"
     ]
    },
    {
     "name": "stderr",
     "output_type": "stream",
     "text": [
      "\r",
      "Map:  58%|████████████████████████████████████████████████████████████████████████████████▎                                                         | 204000/350647 [02:20<01:41, 1450.01 examples/s]"
     ]
    },
    {
     "name": "stderr",
     "output_type": "stream",
     "text": [
      "\r",
      "Map:  58%|████████████████████████████████████████████████████████████████████████████████▋                                                         | 205000/350647 [02:21<01:41, 1436.76 examples/s]"
     ]
    },
    {
     "name": "stderr",
     "output_type": "stream",
     "text": [
      "\r",
      "Map:  59%|█████████████████████████████████████████████████████████████████████████████████                                                         | 206000/350647 [02:21<01:41, 1429.92 examples/s]"
     ]
    },
    {
     "name": "stderr",
     "output_type": "stream",
     "text": [
      "\r",
      "Map:  59%|█████████████████████████████████████████████████████████████████████████████████▍                                                        | 207000/350647 [02:22<01:40, 1433.93 examples/s]"
     ]
    },
    {
     "name": "stderr",
     "output_type": "stream",
     "text": [
      "\r",
      "Map:  59%|█████████████████████████████████████████████████████████████████████████████████▊                                                        | 208000/350647 [02:23<01:38, 1450.67 examples/s]"
     ]
    },
    {
     "name": "stderr",
     "output_type": "stream",
     "text": [
      "\r",
      "Map:  60%|██████████████████████████████████████████████████████████████████████████████████▎                                                       | 209000/350647 [02:23<01:37, 1457.64 examples/s]"
     ]
    },
    {
     "name": "stderr",
     "output_type": "stream",
     "text": [
      "\r",
      "Map:  60%|██████████████████████████████████████████████████████████████████████████████████▋                                                       | 210000/350647 [02:24<01:36, 1463.23 examples/s]"
     ]
    },
    {
     "name": "stderr",
     "output_type": "stream",
     "text": [
      "\r",
      "Map:  60%|███████████████████████████████████████████████████████████████████████████████████                                                       | 211000/350647 [02:25<01:34, 1477.66 examples/s]"
     ]
    },
    {
     "name": "stderr",
     "output_type": "stream",
     "text": [
      "\r",
      "Map:  60%|███████████████████████████████████████████████████████████████████████████████████▍                                                      | 212000/350647 [02:25<01:33, 1490.40 examples/s]"
     ]
    },
    {
     "name": "stderr",
     "output_type": "stream",
     "text": [
      "\r",
      "Map:  61%|███████████████████████████████████████████████████████████████████████████████████▊                                                      | 213000/350647 [02:26<01:32, 1483.33 examples/s]"
     ]
    },
    {
     "name": "stderr",
     "output_type": "stream",
     "text": [
      "\r",
      "Map:  61%|████████████████████████████████████████████████████████████████████████████████████▏                                                     | 214000/350647 [02:27<01:31, 1485.68 examples/s]"
     ]
    },
    {
     "name": "stderr",
     "output_type": "stream",
     "text": [
      "\r",
      "Map:  61%|████████████████████████████████████████████████████████████████████████████████████▌                                                     | 215000/350647 [02:27<01:30, 1503.54 examples/s]"
     ]
    },
    {
     "name": "stderr",
     "output_type": "stream",
     "text": [
      "\r",
      "Map:  62%|█████████████████████████████████████████████████████████████████████████████████████                                                     | 216000/350647 [02:28<01:35, 1414.08 examples/s]"
     ]
    },
    {
     "name": "stderr",
     "output_type": "stream",
     "text": [
      "\r",
      "Map:  62%|█████████████████████████████████████████████████████████████████████████████████████▍                                                    | 217000/350647 [02:29<01:34, 1418.76 examples/s]"
     ]
    },
    {
     "name": "stderr",
     "output_type": "stream",
     "text": [
      "\r",
      "Map:  62%|█████████████████████████████████████████████████████████████████████████████████████▊                                                    | 218000/350647 [02:30<01:32, 1435.40 examples/s]"
     ]
    },
    {
     "name": "stderr",
     "output_type": "stream",
     "text": [
      "\r",
      "Map:  62%|██████████████████████████████████████████████████████████████████████████████████████▏                                                   | 219000/350647 [02:30<01:29, 1466.18 examples/s]"
     ]
    },
    {
     "name": "stderr",
     "output_type": "stream",
     "text": [
      "\r",
      "Map:  63%|██████████████████████████████████████████████████████████████████████████████████████▌                                                   | 220000/350647 [02:31<01:29, 1465.60 examples/s]"
     ]
    },
    {
     "name": "stderr",
     "output_type": "stream",
     "text": [
      "\r",
      "Map:  63%|██████████████████████████████████████████████████████████████████████████████████████▉                                                   | 221000/350647 [02:32<01:30, 1430.11 examples/s]"
     ]
    },
    {
     "name": "stderr",
     "output_type": "stream",
     "text": [
      "\r",
      "Map:  63%|███████████████████████████████████████████████████████████████████████████████████████▎                                                  | 222000/350647 [02:32<01:28, 1455.20 examples/s]"
     ]
    },
    {
     "name": "stderr",
     "output_type": "stream",
     "text": [
      "\r",
      "Map:  64%|███████████████████████████████████████████████████████████████████████████████████████▊                                                  | 223000/350647 [02:33<01:27, 1464.48 examples/s]"
     ]
    },
    {
     "name": "stderr",
     "output_type": "stream",
     "text": [
      "\r",
      "Map:  64%|████████████████████████████████████████████████████████████████████████████████████████▏                                                 | 224000/350647 [02:34<01:27, 1443.09 examples/s]"
     ]
    },
    {
     "name": "stderr",
     "output_type": "stream",
     "text": [
      "\r",
      "Map:  64%|████████████████████████████████████████████████████████████████████████████████████████▌                                                 | 225000/350647 [02:34<01:27, 1431.78 examples/s]"
     ]
    },
    {
     "name": "stderr",
     "output_type": "stream",
     "text": [
      "\r",
      "Map:  64%|████████████████████████████████████████████████████████████████████████████████████████▉                                                 | 226000/350647 [02:35<01:25, 1458.88 examples/s]"
     ]
    },
    {
     "name": "stderr",
     "output_type": "stream",
     "text": [
      "\r",
      "Map:  65%|█████████████████████████████████████████████████████████████████████████████████████████▎                                                | 227000/350647 [02:36<01:24, 1463.76 examples/s]"
     ]
    },
    {
     "name": "stderr",
     "output_type": "stream",
     "text": [
      "\r",
      "Map:  65%|█████████████████████████████████████████████████████████████████████████████████████████▋                                                | 228000/350647 [02:36<01:23, 1474.72 examples/s]"
     ]
    },
    {
     "name": "stderr",
     "output_type": "stream",
     "text": [
      "\r",
      "Map:  65%|██████████████████████████████████████████████████████████████████████████████████████████                                                | 229000/350647 [02:37<01:23, 1458.37 examples/s]"
     ]
    },
    {
     "name": "stderr",
     "output_type": "stream",
     "text": [
      "\r",
      "Map:  66%|██████████████████████████████████████████████████████████████████████████████████████████▌                                               | 230000/350647 [02:39<01:47, 1119.59 examples/s]"
     ]
    },
    {
     "name": "stderr",
     "output_type": "stream",
     "text": [
      "\r",
      "Map:  66%|██████████████████████████████████████████████████████████████████████████████████████████▉                                               | 231000/350647 [02:39<01:43, 1151.80 examples/s]"
     ]
    },
    {
     "name": "stderr",
     "output_type": "stream",
     "text": [
      "\r",
      "Map:  66%|███████████████████████████████████████████████████████████████████████████████████████████▎                                              | 232000/350647 [02:40<01:38, 1204.09 examples/s]"
     ]
    },
    {
     "name": "stderr",
     "output_type": "stream",
     "text": [
      "\r",
      "Map:  66%|███████████████████████████████████████████████████████████████████████████████████████████▋                                              | 233000/350647 [02:41<01:31, 1280.28 examples/s]"
     ]
    },
    {
     "name": "stderr",
     "output_type": "stream",
     "text": [
      "\r",
      "Map:  67%|████████████████████████████████████████████████████████████████████████████████████████████                                              | 234000/350647 [02:41<01:26, 1347.63 examples/s]"
     ]
    },
    {
     "name": "stderr",
     "output_type": "stream",
     "text": [
      "\r",
      "Map:  67%|████████████████████████████████████████████████████████████████████████████████████████████▍                                             | 235000/350647 [02:42<01:24, 1364.70 examples/s]"
     ]
    },
    {
     "name": "stderr",
     "output_type": "stream",
     "text": [
      "\r",
      "Map:  67%|████████████████████████████████████████████████████████████████████████████████████████████▉                                             | 236000/350647 [02:43<01:22, 1394.41 examples/s]"
     ]
    },
    {
     "name": "stderr",
     "output_type": "stream",
     "text": [
      "\r",
      "Map:  68%|█████████████████████████████████████████████████████████████████████████████████████████████▎                                            | 237000/350647 [02:43<01:19, 1435.48 examples/s]"
     ]
    },
    {
     "name": "stderr",
     "output_type": "stream",
     "text": [
      "\r",
      "Map:  68%|█████████████████████████████████████████████████████████████████████████████████████████████▋                                            | 238000/350647 [02:44<01:18, 1440.31 examples/s]"
     ]
    },
    {
     "name": "stderr",
     "output_type": "stream",
     "text": [
      "\r",
      "Map:  68%|██████████████████████████████████████████████████████████████████████████████████████████████                                            | 239000/350647 [02:45<01:18, 1425.26 examples/s]"
     ]
    },
    {
     "name": "stderr",
     "output_type": "stream",
     "text": [
      "\r",
      "Map:  68%|██████████████████████████████████████████████████████████████████████████████████████████████▍                                           | 240000/350647 [02:46<01:16, 1452.26 examples/s]"
     ]
    },
    {
     "name": "stderr",
     "output_type": "stream",
     "text": [
      "\r",
      "Map:  69%|██████████████████████████████████████████████████████████████████████████████████████████████▊                                           | 241000/350647 [02:46<01:14, 1462.25 examples/s]"
     ]
    },
    {
     "name": "stderr",
     "output_type": "stream",
     "text": [
      "\r",
      "Map:  69%|███████████████████████████████████████████████████████████████████████████████████████████████▏                                          | 242000/350647 [02:47<01:14, 1462.82 examples/s]"
     ]
    },
    {
     "name": "stderr",
     "output_type": "stream",
     "text": [
      "\r",
      "Map:  69%|███████████████████████████████████████████████████████████████████████████████████████████████▋                                          | 243000/350647 [02:48<01:17, 1390.18 examples/s]"
     ]
    },
    {
     "name": "stderr",
     "output_type": "stream",
     "text": [
      "\r",
      "Map:  70%|████████████████████████████████████████████████████████████████████████████████████████████████                                          | 244000/350647 [02:48<01:15, 1420.48 examples/s]"
     ]
    },
    {
     "name": "stderr",
     "output_type": "stream",
     "text": [
      "\r",
      "Map:  70%|████████████████████████████████████████████████████████████████████████████████████████████████▍                                         | 245000/350647 [02:49<01:13, 1438.15 examples/s]"
     ]
    },
    {
     "name": "stderr",
     "output_type": "stream",
     "text": [
      "\r",
      "Map:  70%|████████████████████████████████████████████████████████████████████████████████████████████████▊                                         | 246000/350647 [02:50<01:12, 1437.06 examples/s]"
     ]
    },
    {
     "name": "stderr",
     "output_type": "stream",
     "text": [
      "\r",
      "Map:  70%|█████████████████████████████████████████████████████████████████████████████████████████████████▏                                        | 247000/350647 [02:50<01:12, 1433.13 examples/s]"
     ]
    },
    {
     "name": "stderr",
     "output_type": "stream",
     "text": [
      "\r",
      "Map:  71%|█████████████████████████████████████████████████████████████████████████████████████████████████▌                                        | 248000/350647 [02:51<01:12, 1422.47 examples/s]"
     ]
    },
    {
     "name": "stderr",
     "output_type": "stream",
     "text": [
      "\r",
      "Map:  71%|█████████████████████████████████████████████████████████████████████████████████████████████████▉                                        | 249000/350647 [02:52<01:10, 1436.90 examples/s]"
     ]
    },
    {
     "name": "stderr",
     "output_type": "stream",
     "text": [
      "\r",
      "Map:  71%|██████████████████████████████████████████████████████████████████████████████████████████████████▍                                       | 250000/350647 [02:53<01:14, 1354.58 examples/s]"
     ]
    },
    {
     "name": "stderr",
     "output_type": "stream",
     "text": [
      "\r",
      "Map:  72%|██████████████████████████████████████████████████████████████████████████████████████████████████▊                                       | 251000/350647 [02:53<01:11, 1391.21 examples/s]"
     ]
    },
    {
     "name": "stderr",
     "output_type": "stream",
     "text": [
      "\r",
      "Map:  72%|███████████████████████████████████████████████████████████████████████████████████████████████████▏                                      | 252000/350647 [02:54<01:10, 1406.42 examples/s]"
     ]
    },
    {
     "name": "stderr",
     "output_type": "stream",
     "text": [
      "\r",
      "Map:  72%|███████████████████████████████████████████████████████████████████████████████████████████████████▌                                      | 253000/350647 [02:55<01:07, 1437.80 examples/s]"
     ]
    },
    {
     "name": "stderr",
     "output_type": "stream",
     "text": [
      "\r",
      "Map:  72%|███████████████████████████████████████████████████████████████████████████████████████████████████▉                                      | 254000/350647 [02:55<01:06, 1443.93 examples/s]"
     ]
    },
    {
     "name": "stderr",
     "output_type": "stream",
     "text": [
      "\r",
      "Map:  73%|████████████████████████████████████████████████████████████████████████████████████████████████████▎                                     | 255000/350647 [02:56<01:05, 1456.08 examples/s]"
     ]
    },
    {
     "name": "stderr",
     "output_type": "stream",
     "text": [
      "\r",
      "Map:  73%|████████████████████████████████████████████████████████████████████████████████████████████████████▊                                     | 256000/350647 [02:57<01:03, 1490.61 examples/s]"
     ]
    },
    {
     "name": "stderr",
     "output_type": "stream",
     "text": [
      "\r",
      "Map:  73%|█████████████████████████████████████████████████████████████████████████████████████████████████████▏                                    | 257000/350647 [02:57<01:02, 1491.57 examples/s]"
     ]
    },
    {
     "name": "stderr",
     "output_type": "stream",
     "text": [
      "\r",
      "Map:  74%|█████████████████████████████████████████████████████████████████████████████████████████████████████▌                                    | 258000/350647 [02:58<01:03, 1451.15 examples/s]"
     ]
    },
    {
     "name": "stderr",
     "output_type": "stream",
     "text": [
      "\r",
      "Map:  74%|█████████████████████████████████████████████████████████████████████████████████████████████████████▉                                    | 259000/350647 [02:59<01:02, 1462.34 examples/s]"
     ]
    },
    {
     "name": "stderr",
     "output_type": "stream",
     "text": [
      "\r",
      "Map:  74%|██████████████████████████████████████████████████████████████████████████████████████████████████████▎                                   | 260000/350647 [02:59<01:02, 1458.12 examples/s]"
     ]
    },
    {
     "name": "stderr",
     "output_type": "stream",
     "text": [
      "\r",
      "Map:  74%|██████████████████████████████████████████████████████████████████████████████████████████████████████▋                                   | 261000/350647 [03:00<01:01, 1456.14 examples/s]"
     ]
    },
    {
     "name": "stderr",
     "output_type": "stream",
     "text": [
      "\r",
      "Map:  75%|███████████████████████████████████████████████████████████████████████████████████████████████████████                                   | 262000/350647 [03:01<01:01, 1430.45 examples/s]"
     ]
    },
    {
     "name": "stderr",
     "output_type": "stream",
     "text": [
      "\r",
      "Map:  75%|███████████████████████████████████████████████████████████████████████████████████████████████████████▌                                  | 263000/350647 [03:02<01:00, 1452.67 examples/s]"
     ]
    },
    {
     "name": "stderr",
     "output_type": "stream",
     "text": [
      "\r",
      "Map:  75%|███████████████████████████████████████████████████████████████████████████████████████████████████████▉                                  | 264000/350647 [03:02<00:58, 1476.08 examples/s]"
     ]
    },
    {
     "name": "stderr",
     "output_type": "stream",
     "text": [
      "\r",
      "Map:  76%|████████████████████████████████████████████████████████████████████████████████████████████████████████▎                                 | 265000/350647 [03:03<01:00, 1413.47 examples/s]"
     ]
    },
    {
     "name": "stderr",
     "output_type": "stream",
     "text": [
      "\r",
      "Map:  76%|████████████████████████████████████████████████████████████████████████████████████████████████████████▋                                 | 266000/350647 [03:04<01:00, 1404.80 examples/s]"
     ]
    },
    {
     "name": "stderr",
     "output_type": "stream",
     "text": [
      "\r",
      "Map:  76%|█████████████████████████████████████████████████████████████████████████████████████████████████████████                                 | 267000/350647 [03:04<00:57, 1450.99 examples/s]"
     ]
    },
    {
     "name": "stderr",
     "output_type": "stream",
     "text": [
      "\r",
      "Map:  76%|█████████████████████████████████████████████████████████████████████████████████████████████████████████▍                                | 268000/350647 [03:05<00:55, 1477.62 examples/s]"
     ]
    },
    {
     "name": "stderr",
     "output_type": "stream",
     "text": [
      "\r",
      "Map:  77%|█████████████████████████████████████████████████████████████████████████████████████████████████████████▊                                | 269000/350647 [03:06<00:55, 1464.16 examples/s]"
     ]
    },
    {
     "name": "stderr",
     "output_type": "stream",
     "text": [
      "\r",
      "Map:  77%|██████████████████████████████████████████████████████████████████████████████████████████████████████████▎                               | 270000/350647 [03:06<00:54, 1469.89 examples/s]"
     ]
    },
    {
     "name": "stderr",
     "output_type": "stream",
     "text": [
      "\r",
      "Map:  77%|██████████████████████████████████████████████████████████████████████████████████████████████████████████▋                               | 271000/350647 [03:07<00:54, 1473.87 examples/s]"
     ]
    },
    {
     "name": "stderr",
     "output_type": "stream",
     "text": [
      "\r",
      "Map:  78%|███████████████████████████████████████████████████████████████████████████████████████████████████████████                               | 272000/350647 [03:08<00:52, 1495.43 examples/s]"
     ]
    },
    {
     "name": "stderr",
     "output_type": "stream",
     "text": [
      "\r",
      "Map:  78%|███████████████████████████████████████████████████████████████████████████████████████████████████████████▍                              | 273000/350647 [03:08<00:52, 1468.97 examples/s]"
     ]
    },
    {
     "name": "stderr",
     "output_type": "stream",
     "text": [
      "\r",
      "Map:  78%|███████████████████████████████████████████████████████████████████████████████████████████████████████████▊                              | 274000/350647 [03:09<00:52, 1453.67 examples/s]"
     ]
    },
    {
     "name": "stderr",
     "output_type": "stream",
     "text": [
      "\r",
      "Map:  78%|████████████████████████████████████████████████████████████████████████████████████████████████████████████▏                             | 275000/350647 [03:10<00:51, 1480.27 examples/s]"
     ]
    },
    {
     "name": "stderr",
     "output_type": "stream",
     "text": [
      "\r",
      "Map:  79%|████████████████████████████████████████████████████████████████████████████████████████████████████████████▌                             | 276000/350647 [03:10<00:50, 1491.56 examples/s]"
     ]
    },
    {
     "name": "stderr",
     "output_type": "stream",
     "text": [
      "\r",
      "Map:  79%|█████████████████████████████████████████████████████████████████████████████████████████████████████████████                             | 277000/350647 [03:11<00:50, 1457.17 examples/s]"
     ]
    },
    {
     "name": "stderr",
     "output_type": "stream",
     "text": [
      "\r",
      "Map:  79%|█████████████████████████████████████████████████████████████████████████████████████████████████████████████▍                            | 278000/350647 [03:12<00:50, 1447.03 examples/s]"
     ]
    },
    {
     "name": "stderr",
     "output_type": "stream",
     "text": [
      "\r",
      "Map:  80%|█████████████████████████████████████████████████████████████████████████████████████████████████████████████▊                            | 279000/350647 [03:12<00:49, 1461.93 examples/s]"
     ]
    },
    {
     "name": "stderr",
     "output_type": "stream",
     "text": [
      "\r",
      "Map:  80%|██████████████████████████████████████████████████████████████████████████████████████████████████████████████▏                           | 280000/350647 [03:13<00:48, 1470.72 examples/s]"
     ]
    },
    {
     "name": "stderr",
     "output_type": "stream",
     "text": [
      "\r",
      "Map:  80%|██████████████████████████████████████████████████████████████████████████████████████████████████████████████▌                           | 281000/350647 [03:14<00:46, 1486.35 examples/s]"
     ]
    },
    {
     "name": "stderr",
     "output_type": "stream",
     "text": [
      "\r",
      "Map:  80%|██████████████████████████████████████████████████████████████████████████████████████████████████████████████▉                           | 282000/350647 [03:14<00:46, 1474.22 examples/s]"
     ]
    },
    {
     "name": "stderr",
     "output_type": "stream",
     "text": [
      "\r",
      "Map:  81%|███████████████████████████████████████████████████████████████████████████████████████████████████████████████▍                          | 283000/350647 [03:15<00:45, 1490.82 examples/s]"
     ]
    },
    {
     "name": "stderr",
     "output_type": "stream",
     "text": [
      "\r",
      "Map:  81%|███████████████████████████████████████████████████████████████████████████████████████████████████████████████▊                          | 284000/350647 [03:16<00:46, 1432.25 examples/s]"
     ]
    },
    {
     "name": "stderr",
     "output_type": "stream",
     "text": [
      "\r",
      "Map:  81%|████████████████████████████████████████████████████████████████████████████████████████████████████████████████▏                         | 285000/350647 [03:17<00:45, 1428.97 examples/s]"
     ]
    },
    {
     "name": "stderr",
     "output_type": "stream",
     "text": [
      "\r",
      "Map:  82%|████████████████████████████████████████████████████████████████████████████████████████████████████████████████▌                         | 286000/350647 [03:17<00:45, 1427.39 examples/s]"
     ]
    },
    {
     "name": "stderr",
     "output_type": "stream",
     "text": [
      "\r",
      "Map:  82%|████████████████████████████████████████████████████████████████████████████████████████████████████████████████▉                         | 287000/350647 [03:18<00:43, 1447.57 examples/s]"
     ]
    },
    {
     "name": "stderr",
     "output_type": "stream",
     "text": [
      "\r",
      "Map:  82%|█████████████████████████████████████████████████████████████████████████████████████████████████████████████████▎                        | 288000/350647 [03:19<00:42, 1457.88 examples/s]"
     ]
    },
    {
     "name": "stderr",
     "output_type": "stream",
     "text": [
      "\r",
      "Map:  82%|█████████████████████████████████████████████████████████████████████████████████████████████████████████████████▋                        | 289000/350647 [03:19<00:42, 1455.50 examples/s]"
     ]
    },
    {
     "name": "stderr",
     "output_type": "stream",
     "text": [
      "\r",
      "Map:  83%|██████████████████████████████████████████████████████████████████████████████████████████████████████████████████▏                       | 290000/350647 [03:20<00:41, 1457.08 examples/s]"
     ]
    },
    {
     "name": "stderr",
     "output_type": "stream",
     "text": [
      "\r",
      "Map:  83%|██████████████████████████████████████████████████████████████████████████████████████████████████████████████████▌                       | 291000/350647 [03:21<00:40, 1470.11 examples/s]"
     ]
    },
    {
     "name": "stderr",
     "output_type": "stream",
     "text": [
      "\r",
      "Map:  83%|██████████████████████████████████████████████████████████████████████████████████████████████████████████████████▉                       | 292000/350647 [03:21<00:40, 1449.54 examples/s]"
     ]
    },
    {
     "name": "stderr",
     "output_type": "stream",
     "text": [
      "\r",
      "Map:  84%|███████████████████████████████████████████████████████████████████████████████████████████████████████████████████▎                      | 293000/350647 [03:22<00:39, 1442.96 examples/s]"
     ]
    },
    {
     "name": "stderr",
     "output_type": "stream",
     "text": [
      "\r",
      "Map:  84%|███████████████████████████████████████████████████████████████████████████████████████████████████████████████████▋                      | 294000/350647 [03:23<00:39, 1436.03 examples/s]"
     ]
    },
    {
     "name": "stderr",
     "output_type": "stream",
     "text": [
      "\r",
      "Map:  84%|████████████████████████████████████████████████████████████████████████████████████████████████████████████████████                      | 295000/350647 [03:23<00:38, 1454.89 examples/s]"
     ]
    },
    {
     "name": "stderr",
     "output_type": "stream",
     "text": [
      "\r",
      "Map:  84%|████████████████████████████████████████████████████████████████████████████████████████████████████████████████████▍                     | 296000/350647 [03:24<00:37, 1462.83 examples/s]"
     ]
    },
    {
     "name": "stderr",
     "output_type": "stream",
     "text": [
      "\r",
      "Map:  85%|████████████████████████████████████████████████████████████████████████████████████████████████████████████████████▉                     | 297000/350647 [03:25<00:36, 1450.49 examples/s]"
     ]
    },
    {
     "name": "stderr",
     "output_type": "stream",
     "text": [
      "\r",
      "Map:  85%|█████████████████████████████████████████████████████████████████████████████████████████████████████████████████████▎                    | 298000/350647 [03:26<00:36, 1449.27 examples/s]"
     ]
    },
    {
     "name": "stderr",
     "output_type": "stream",
     "text": [
      "\r",
      "Map:  85%|█████████████████████████████████████████████████████████████████████████████████████████████████████████████████████▋                    | 299000/350647 [03:26<00:36, 1413.09 examples/s]"
     ]
    },
    {
     "name": "stderr",
     "output_type": "stream",
     "text": [
      "\r",
      "Map:  86%|██████████████████████████████████████████████████████████████████████████████████████████████████████████████████████                    | 300000/350647 [03:27<00:35, 1425.41 examples/s]"
     ]
    },
    {
     "name": "stderr",
     "output_type": "stream",
     "text": [
      "\r",
      "Map:  86%|██████████████████████████████████████████████████████████████████████████████████████████████████████████████████████▍                   | 301000/350647 [03:28<00:34, 1448.30 examples/s]"
     ]
    },
    {
     "name": "stderr",
     "output_type": "stream",
     "text": [
      "\r",
      "Map:  86%|██████████████████████████████████████████████████████████████████████████████████████████████████████████████████████▊                   | 302000/350647 [03:28<00:33, 1462.45 examples/s]"
     ]
    },
    {
     "name": "stderr",
     "output_type": "stream",
     "text": [
      "\r",
      "Map:  86%|███████████████████████████████████████████████████████████████████████████████████████████████████████████████████████▏                  | 303000/350647 [03:29<00:32, 1478.26 examples/s]"
     ]
    },
    {
     "name": "stderr",
     "output_type": "stream",
     "text": [
      "\r",
      "Map:  87%|███████████████████████████████████████████████████████████████████████████████████████████████████████████████████████▋                  | 304000/350647 [03:30<00:31, 1472.33 examples/s]"
     ]
    },
    {
     "name": "stderr",
     "output_type": "stream",
     "text": [
      "\r",
      "Map:  87%|████████████████████████████████████████████████████████████████████████████████████████████████████████████████████████                  | 305000/350647 [03:30<00:31, 1456.28 examples/s]"
     ]
    },
    {
     "name": "stderr",
     "output_type": "stream",
     "text": [
      "\r",
      "Map:  87%|████████████████████████████████████████████████████████████████████████████████████████████████████████████████████████▍                 | 306000/350647 [03:31<00:30, 1468.50 examples/s]"
     ]
    },
    {
     "name": "stderr",
     "output_type": "stream",
     "text": [
      "\r",
      "Map:  88%|████████████████████████████████████████████████████████████████████████████████████████████████████████████████████████▊                 | 307000/350647 [03:32<00:29, 1483.18 examples/s]"
     ]
    },
    {
     "name": "stderr",
     "output_type": "stream",
     "text": [
      "\r",
      "Map:  88%|█████████████████████████████████████████████████████████████████████████████████████████████████████████████████████████▏                | 308000/350647 [03:32<00:29, 1465.18 examples/s]"
     ]
    },
    {
     "name": "stderr",
     "output_type": "stream",
     "text": [
      "\r",
      "Map:  88%|█████████████████████████████████████████████████████████████████████████████████████████████████████████████████████████▌                | 309000/350647 [03:33<00:28, 1454.79 examples/s]"
     ]
    },
    {
     "name": "stderr",
     "output_type": "stream",
     "text": [
      "\r",
      "Map:  88%|██████████████████████████████████████████████████████████████████████████████████████████████████████████████████████████                | 310000/350647 [03:34<00:27, 1464.38 examples/s]"
     ]
    },
    {
     "name": "stderr",
     "output_type": "stream",
     "text": [
      "\r",
      "Map:  89%|██████████████████████████████████████████████████████████████████████████████████████████████████████████████████████████▍               | 311000/350647 [03:34<00:26, 1471.83 examples/s]"
     ]
    },
    {
     "name": "stderr",
     "output_type": "stream",
     "text": [
      "\r",
      "Map:  89%|██████████████████████████████████████████████████████████████████████████████████████████████████████████████████████████▊               | 312000/350647 [03:35<00:27, 1429.87 examples/s]"
     ]
    },
    {
     "name": "stderr",
     "output_type": "stream",
     "text": [
      "\r",
      "Map:  89%|███████████████████████████████████████████████████████████████████████████████████████████████████████████████████████████▏              | 313000/350647 [03:36<00:26, 1444.80 examples/s]"
     ]
    },
    {
     "name": "stderr",
     "output_type": "stream",
     "text": [
      "\r",
      "Map:  90%|███████████████████████████████████████████████████████████████████████████████████████████████████████████████████████████▌              | 314000/350647 [03:37<00:25, 1461.99 examples/s]"
     ]
    },
    {
     "name": "stderr",
     "output_type": "stream",
     "text": [
      "\r",
      "Map:  90%|███████████████████████████████████████████████████████████████████████████████████████████████████████████████████████████▉              | 315000/350647 [03:37<00:24, 1466.87 examples/s]"
     ]
    },
    {
     "name": "stderr",
     "output_type": "stream",
     "text": [
      "\r",
      "Map:  90%|████████████████████████████████████████████████████████████████████████████████████████████████████████████████████████████▎             | 316000/350647 [03:38<00:23, 1448.96 examples/s]"
     ]
    },
    {
     "name": "stderr",
     "output_type": "stream",
     "text": [
      "\r",
      "Map:  90%|████████████████████████████████████████████████████████████████████████████████████████████████████████████████████████████▊             | 317000/350647 [03:39<00:22, 1467.23 examples/s]"
     ]
    },
    {
     "name": "stderr",
     "output_type": "stream",
     "text": [
      "\r",
      "Map:  91%|█████████████████████████████████████████████████████████████████████████████████████████████████████████████████████████████▏            | 318000/350647 [03:39<00:23, 1409.46 examples/s]"
     ]
    },
    {
     "name": "stderr",
     "output_type": "stream",
     "text": [
      "\r",
      "Map:  91%|█████████████████████████████████████████████████████████████████████████████████████████████████████████████████████████████▌            | 319000/350647 [03:40<00:22, 1412.43 examples/s]"
     ]
    },
    {
     "name": "stderr",
     "output_type": "stream",
     "text": [
      "\r",
      "Map:  91%|█████████████████████████████████████████████████████████████████████████████████████████████████████████████████████████████▉            | 320000/350647 [03:41<00:21, 1416.96 examples/s]"
     ]
    },
    {
     "name": "stderr",
     "output_type": "stream",
     "text": [
      "\r",
      "Map:  92%|██████████████████████████████████████████████████████████████████████████████████████████████████████████████████████████████▎           | 321000/350647 [03:41<00:20, 1455.64 examples/s]"
     ]
    },
    {
     "name": "stderr",
     "output_type": "stream",
     "text": [
      "\r",
      "Map:  92%|██████████████████████████████████████████████████████████████████████████████████████████████████████████████████████████████▋           | 322000/350647 [03:42<00:20, 1420.96 examples/s]"
     ]
    },
    {
     "name": "stderr",
     "output_type": "stream",
     "text": [
      "\r",
      "Map:  92%|███████████████████████████████████████████████████████████████████████████████████████████████████████████████████████████████           | 323000/350647 [03:43<00:19, 1445.48 examples/s]"
     ]
    },
    {
     "name": "stderr",
     "output_type": "stream",
     "text": [
      "\r",
      "Map:  92%|███████████████████████████████████████████████████████████████████████████████████████████████████████████████████████████████▌          | 324000/350647 [03:43<00:18, 1453.46 examples/s]"
     ]
    },
    {
     "name": "stderr",
     "output_type": "stream",
     "text": [
      "\r",
      "Map:  93%|███████████████████████████████████████████████████████████████████████████████████████████████████████████████████████████████▉          | 325000/350647 [03:44<00:17, 1469.87 examples/s]"
     ]
    },
    {
     "name": "stderr",
     "output_type": "stream",
     "text": [
      "\r",
      "Map:  93%|████████████████████████████████████████████████████████████████████████████████████████████████████████████████████████████████▎         | 326000/350647 [03:45<00:16, 1479.22 examples/s]"
     ]
    },
    {
     "name": "stderr",
     "output_type": "stream",
     "text": [
      "\r",
      "Map:  93%|████████████████████████████████████████████████████████████████████████████████████████████████████████████████████████████████▋         | 327000/350647 [03:45<00:16, 1476.27 examples/s]"
     ]
    },
    {
     "name": "stderr",
     "output_type": "stream",
     "text": [
      "\r",
      "Map:  94%|█████████████████████████████████████████████████████████████████████████████████████████████████████████████████████████████████         | 328000/350647 [03:46<00:15, 1471.76 examples/s]"
     ]
    },
    {
     "name": "stderr",
     "output_type": "stream",
     "text": [
      "\r",
      "Map:  94%|█████████████████████████████████████████████████████████████████████████████████████████████████████████████████████████████████▍        | 329000/350647 [03:47<00:14, 1486.78 examples/s]"
     ]
    },
    {
     "name": "stderr",
     "output_type": "stream",
     "text": [
      "\r",
      "Map:  94%|█████████████████████████████████████████████████████████████████████████████████████████████████████████████████████████████████▊        | 330000/350647 [03:48<00:13, 1485.65 examples/s]"
     ]
    },
    {
     "name": "stderr",
     "output_type": "stream",
     "text": [
      "\r",
      "Map:  94%|██████████████████████████████████████████████████████████████████████████████████████████████████████████████████████████████████▎       | 331000/350647 [03:48<00:13, 1472.65 examples/s]"
     ]
    },
    {
     "name": "stderr",
     "output_type": "stream",
     "text": [
      "\r",
      "Map:  95%|██████████████████████████████████████████████████████████████████████████████████████████████████████████████████████████████████▋       | 332000/350647 [03:49<00:12, 1474.00 examples/s]"
     ]
    },
    {
     "name": "stderr",
     "output_type": "stream",
     "text": [
      "\r",
      "Map:  95%|███████████████████████████████████████████████████████████████████████████████████████████████████████████████████████████████████       | 333000/350647 [03:50<00:12, 1412.43 examples/s]"
     ]
    },
    {
     "name": "stderr",
     "output_type": "stream",
     "text": [
      "\r",
      "Map:  95%|███████████████████████████████████████████████████████████████████████████████████████████████████████████████████████████████████▍      | 334000/350647 [03:50<00:11, 1427.40 examples/s]"
     ]
    },
    {
     "name": "stderr",
     "output_type": "stream",
     "text": [
      "\r",
      "Map:  96%|███████████████████████████████████████████████████████████████████████████████████████████████████████████████████████████████████▊      | 335000/350647 [03:51<00:10, 1439.19 examples/s]"
     ]
    },
    {
     "name": "stderr",
     "output_type": "stream",
     "text": [
      "\r",
      "Map:  96%|████████████████████████████████████████████████████████████████████████████████████████████████████████████████████████████████████▏     | 336000/350647 [03:52<00:10, 1450.60 examples/s]"
     ]
    },
    {
     "name": "stderr",
     "output_type": "stream",
     "text": [
      "\r",
      "Map:  96%|████████████████████████████████████████████████████████████████████████████████████████████████████████████████████████████████████▋     | 337000/350647 [03:52<00:09, 1473.76 examples/s]"
     ]
    },
    {
     "name": "stderr",
     "output_type": "stream",
     "text": [
      "\r",
      "Map:  96%|█████████████████████████████████████████████████████████████████████████████████████████████████████████████████████████████████████     | 338000/350647 [03:53<00:08, 1454.84 examples/s]"
     ]
    },
    {
     "name": "stderr",
     "output_type": "stream",
     "text": [
      "\r",
      "Map:  97%|█████████████████████████████████████████████████████████████████████████████████████████████████████████████████████████████████████▍    | 339000/350647 [03:54<00:08, 1438.00 examples/s]"
     ]
    },
    {
     "name": "stderr",
     "output_type": "stream",
     "text": [
      "\r",
      "Map:  97%|█████████████████████████████████████████████████████████████████████████████████████████████████████████████████████████████████████▊    | 340000/350647 [03:54<00:07, 1462.68 examples/s]"
     ]
    },
    {
     "name": "stderr",
     "output_type": "stream",
     "text": [
      "\r",
      "Map:  97%|██████████████████████████████████████████████████████████████████████████████████████████████████████████████████████████████████████▏   | 341000/350647 [03:55<00:06, 1472.81 examples/s]"
     ]
    },
    {
     "name": "stderr",
     "output_type": "stream",
     "text": [
      "\r",
      "Map:  98%|██████████████████████████████████████████████████████████████████████████████████████████████████████████████████████████████████████▌   | 342000/350647 [03:56<00:05, 1482.17 examples/s]"
     ]
    },
    {
     "name": "stderr",
     "output_type": "stream",
     "text": [
      "\r",
      "Map:  98%|██████████████████████████████████████████████████████████████████████████████████████████████████████████████████████████████████████▉   | 343000/350647 [03:56<00:05, 1472.39 examples/s]"
     ]
    },
    {
     "name": "stderr",
     "output_type": "stream",
     "text": [
      "\r",
      "Map:  98%|███████████████████████████████████████████████████████████████████████████████████████████████████████████████████████████████████████▍  | 344000/350647 [03:57<00:04, 1476.36 examples/s]"
     ]
    },
    {
     "name": "stderr",
     "output_type": "stream",
     "text": [
      "\r",
      "Map:  98%|███████████████████████████████████████████████████████████████████████████████████████████████████████████████████████████████████████▊  | 345000/350647 [03:58<00:03, 1491.11 examples/s]"
     ]
    },
    {
     "name": "stderr",
     "output_type": "stream",
     "text": [
      "\r",
      "Map:  99%|████████████████████████████████████████████████████████████████████████████████████████████████████████████████████████████████████████▏ | 346000/350647 [03:58<00:03, 1483.87 examples/s]"
     ]
    },
    {
     "name": "stderr",
     "output_type": "stream",
     "text": [
      "\r",
      "Map:  99%|████████████████████████████████████████████████████████████████████████████████████████████████████████████████████████████████████████▌ | 347000/350647 [03:59<00:02, 1477.09 examples/s]"
     ]
    },
    {
     "name": "stderr",
     "output_type": "stream",
     "text": [
      "\r",
      "Map:  99%|████████████████████████████████████████████████████████████████████████████████████████████████████████████████████████████████████████▉ | 348000/350647 [04:00<00:01, 1505.79 examples/s]"
     ]
    },
    {
     "name": "stderr",
     "output_type": "stream",
     "text": [
      "\r",
      "Map: 100%|█████████████████████████████████████████████████████████████████████████████████████████████████████████████████████████████████████████▎| 349000/350647 [04:00<00:01, 1511.37 examples/s]"
     ]
    },
    {
     "name": "stderr",
     "output_type": "stream",
     "text": [
      "\r",
      "Map: 100%|█████████████████████████████████████████████████████████████████████████████████████████████████████████████████████████████████████████▋| 350000/350647 [04:01<00:00, 1500.43 examples/s]"
     ]
    },
    {
     "name": "stderr",
     "output_type": "stream",
     "text": [
      "\r",
      "Map: 100%|██████████████████████████████████████████████████████████████████████████████████████████████████████████████████████████████████████████| 350647/350647 [04:02<00:00, 1485.11 examples/s]"
     ]
    },
    {
     "name": "stderr",
     "output_type": "stream",
     "text": [
      "\r",
      "                                                                                                                                                                                                     "
     ]
    },
    {
     "name": "stderr",
     "output_type": "stream",
     "text": [
      "\r"
     ]
    }
   ],
   "source": [
    "from transformers import AutoTokenizer\n",
    "tokenizer = AutoTokenizer.from_pretrained(model_name, use_fast=True)\n",
    "\n",
    "train_dataset = convert_to_hf_trainable_dataset(train, tokenizer)\n",
    "val_dataset = convert_to_hf_trainable_dataset(val, tokenizer)\n",
    "test_dataset = convert_to_hf_trainable_dataset(test, tokenizer)"
   ]
  },
  {
   "cell_type": "code",
   "execution_count": 6,
   "id": "50ff26f6",
   "metadata": {
    "execution": {
     "iopub.execute_input": "2023-06-06T23:38:29.850859Z",
     "iopub.status.busy": "2023-06-06T23:38:29.850242Z",
     "iopub.status.idle": "2023-06-06T23:38:40.272444Z",
     "shell.execute_reply": "2023-06-06T23:38:40.271532Z"
    },
    "papermill": {
     "duration": 10.472454,
     "end_time": "2023-06-06T23:38:40.274880",
     "exception": false,
     "start_time": "2023-06-06T23:38:29.802426",
     "status": "completed"
    },
    "tags": []
   },
   "outputs": [
    {
     "name": "stderr",
     "output_type": "stream",
     "text": [
      "Some weights of the model checkpoint at bert-base-uncased were not used when initializing BertForSequenceClassification: ['cls.predictions.transform.LayerNorm.bias', 'cls.seq_relationship.bias', 'cls.predictions.decoder.weight', 'cls.predictions.transform.dense.bias', 'cls.seq_relationship.weight', 'cls.predictions.bias', 'cls.predictions.transform.dense.weight', 'cls.predictions.transform.LayerNorm.weight']\n",
      "- This IS expected if you are initializing BertForSequenceClassification from the checkpoint of a model trained on another task or with another architecture (e.g. initializing a BertForSequenceClassification model from a BertForPreTraining model).\n",
      "- This IS NOT expected if you are initializing BertForSequenceClassification from the checkpoint of a model that you expect to be exactly identical (initializing a BertForSequenceClassification model from a BertForSequenceClassification model).\n"
     ]
    },
    {
     "name": "stderr",
     "output_type": "stream",
     "text": [
      "Some weights of BertForSequenceClassification were not initialized from the model checkpoint at bert-base-uncased and are newly initialized: ['classifier.bias', 'classifier.weight']\n",
      "You should probably TRAIN this model on a down-stream task to be able to use it for predictions and inference.\n"
     ]
    }
   ],
   "source": [
    "from transformers import AutoModelForSequenceClassification\n",
    "\n",
    "def freeze_all_but_classifier_and_last_layers(model, num_layers):\n",
    "    for param in model.base_model.parameters():\n",
    "        param.requires_grad = False\n",
    "\n",
    "    for layer in model.base_model.encoder.layer[-num_layers:]:\n",
    "        for param in layer.parameters():\n",
    "            param.requires_grad = True\n",
    "    \n",
    "    model.classifier.requires_grad = True\n",
    "    return model\n",
    "\n",
    "def get_model_params(model):\n",
    "    return sum(p.numel() for p in model.parameters() if p.requires_grad)\n",
    "\n",
    "transformer = AutoModelForSequenceClassification.from_pretrained(model_name, num_labels=len(labels))\n",
    "transformer = freeze_all_but_classifier_and_last_layers(transformer, 1)"
   ]
  },
  {
   "cell_type": "code",
   "execution_count": 7,
   "id": "f1514d0d",
   "metadata": {
    "execution": {
     "iopub.execute_input": "2023-06-06T23:38:40.365762Z",
     "iopub.status.busy": "2023-06-06T23:38:40.364927Z",
     "iopub.status.idle": "2023-06-06T23:38:40.377325Z",
     "shell.execute_reply": "2023-06-06T23:38:40.376084Z"
    },
    "papermill": {
     "duration": 0.059781,
     "end_time": "2023-06-06T23:38:40.379464",
     "exception": false,
     "start_time": "2023-06-06T23:38:40.319683",
     "status": "completed"
    },
    "tags": []
   },
   "outputs": [
    {
     "data": {
      "text/plain": [
       "7090179"
      ]
     },
     "execution_count": 7,
     "metadata": {},
     "output_type": "execute_result"
    }
   ],
   "source": [
    "get_model_params(transformer)"
   ]
  },
  {
   "cell_type": "markdown",
   "id": "e803b4ea",
   "metadata": {
    "tags": [
     "papermill-error-cell-tag"
    ]
   },
   "source": [
    "<span id=\"papermill-error-cell\" style=\"color:red; font-family:Helvetica Neue, Helvetica, Arial, sans-serif; font-size:2em;\">Execution using papermill encountered an exception here and stopped:</span>"
   ]
  },
  {
   "cell_type": "code",
   "execution_count": 8,
   "id": "34a6f1f7",
   "metadata": {
    "execution": {
     "iopub.execute_input": "2023-06-06T23:38:40.475078Z",
     "iopub.status.busy": "2023-06-06T23:38:40.474616Z",
     "iopub.status.idle": "2023-06-06T23:38:42.567361Z",
     "shell.execute_reply": "2023-06-06T23:38:42.565156Z"
    },
    "papermill": {
     "duration": 2.144876,
     "end_time": "2023-06-06T23:38:42.569097",
     "exception": true,
     "start_time": "2023-06-06T23:38:40.424221",
     "status": "failed"
    },
    "tags": []
   },
   "outputs": [
    {
     "ename": "ImportError",
     "evalue": "Using the `Trainer` with `PyTorch` requires `accelerate`: Run `pip install --upgrade accelerate`",
     "output_type": "error",
     "traceback": [
      "\u001b[0;31m---------------------------------------------------------------------------\u001b[0m",
      "\u001b[0;31mImportError\u001b[0m                               Traceback (most recent call last)",
      "Cell \u001b[0;32mIn[8], line 5\u001b[0m\n\u001b[1;32m      2\u001b[0m \u001b[38;5;28;01mfrom\u001b[39;00m \u001b[38;5;21;01mtransformers\u001b[39;00m \u001b[38;5;28;01mimport\u001b[39;00m Trainer\n\u001b[1;32m      3\u001b[0m \u001b[38;5;28;01mfrom\u001b[39;00m \u001b[38;5;21;01mutils\u001b[39;00m \u001b[38;5;28;01mimport\u001b[39;00m get_result, get_model_folder\n\u001b[0;32m----> 5\u001b[0m training_args \u001b[38;5;241m=\u001b[39m \u001b[43mTrainingArguments\u001b[49m\u001b[43m(\u001b[49m\n\u001b[1;32m      6\u001b[0m \u001b[43m    \u001b[49m\u001b[43moutput_dir\u001b[49m\u001b[38;5;241;43m=\u001b[39;49m\u001b[43mget_model_folder\u001b[49m\u001b[43m(\u001b[49m\u001b[43m)\u001b[49m\u001b[43m,\u001b[49m\n\u001b[1;32m      7\u001b[0m \u001b[43m    \u001b[49m\u001b[43mnum_train_epochs\u001b[49m\u001b[38;5;241;43m=\u001b[39;49m\u001b[38;5;241;43m1\u001b[39;49m\u001b[43m,\u001b[49m\n\u001b[1;32m      8\u001b[0m \u001b[43m    \u001b[49m\u001b[43mper_device_train_batch_size\u001b[49m\u001b[38;5;241;43m=\u001b[39;49m\u001b[38;5;241;43m64\u001b[39;49m\u001b[43m,\u001b[49m\n\u001b[1;32m      9\u001b[0m \u001b[43m    \u001b[49m\u001b[43mper_device_eval_batch_size\u001b[49m\u001b[38;5;241;43m=\u001b[39;49m\u001b[38;5;241;43m64\u001b[39;49m\u001b[43m,\u001b[49m\n\u001b[1;32m     10\u001b[0m \u001b[43m    \u001b[49m\u001b[43mwarmup_steps\u001b[49m\u001b[38;5;241;43m=\u001b[39;49m\u001b[38;5;241;43m500\u001b[39;49m\u001b[43m,\u001b[49m\n\u001b[1;32m     11\u001b[0m \u001b[43m    \u001b[49m\u001b[43mlogging_steps\u001b[49m\u001b[38;5;241;43m=\u001b[39;49m\u001b[38;5;241;43m10\u001b[39;49m\u001b[43m,\u001b[49m\n\u001b[1;32m     12\u001b[0m \u001b[43m    \u001b[49m\u001b[43mreport_to\u001b[49m\u001b[38;5;241;43m=\u001b[39;49m\u001b[38;5;124;43m\"\u001b[39;49m\u001b[38;5;124;43mwandb\u001b[39;49m\u001b[38;5;124;43m\"\u001b[39;49m\u001b[43m,\u001b[49m\n\u001b[1;32m     13\u001b[0m \u001b[43m)\u001b[49m\n\u001b[1;32m     17\u001b[0m compute_metrics \u001b[38;5;241m=\u001b[39m \u001b[38;5;28;01mlambda\u001b[39;00m pred: {\u001b[38;5;124m\"\u001b[39m\u001b[38;5;124mf1_macro\u001b[39m\u001b[38;5;124m\"\u001b[39m: get_result(pred\u001b[38;5;241m.\u001b[39mlabel_ids, pred\u001b[38;5;241m.\u001b[39mpredictions\u001b[38;5;241m.\u001b[39margmax(\u001b[38;5;241m-\u001b[39m\u001b[38;5;241m1\u001b[39m))\u001b[38;5;241m.\u001b[39mmetric_value}\n\u001b[1;32m     18\u001b[0m trainer \u001b[38;5;241m=\u001b[39m Trainer(\n\u001b[1;32m     19\u001b[0m     model\u001b[38;5;241m=\u001b[39mtransformer,\n\u001b[1;32m     20\u001b[0m     args\u001b[38;5;241m=\u001b[39mtraining_args,\n\u001b[0;32m   (...)\u001b[0m\n\u001b[1;32m     23\u001b[0m     compute_metrics\u001b[38;5;241m=\u001b[39mcompute_metrics,\n\u001b[1;32m     24\u001b[0m )\n",
      "File \u001b[0;32m<string>:111\u001b[0m, in \u001b[0;36m__init__\u001b[0;34m(self, output_dir, overwrite_output_dir, do_train, do_eval, do_predict, evaluation_strategy, prediction_loss_only, per_device_train_batch_size, per_device_eval_batch_size, per_gpu_train_batch_size, per_gpu_eval_batch_size, gradient_accumulation_steps, eval_accumulation_steps, eval_delay, learning_rate, weight_decay, adam_beta1, adam_beta2, adam_epsilon, max_grad_norm, num_train_epochs, max_steps, lr_scheduler_type, warmup_ratio, warmup_steps, log_level, log_level_replica, log_on_each_node, logging_dir, logging_strategy, logging_first_step, logging_steps, logging_nan_inf_filter, save_strategy, save_steps, save_total_limit, save_safetensors, save_on_each_node, no_cuda, use_mps_device, seed, data_seed, jit_mode_eval, use_ipex, bf16, fp16, fp16_opt_level, half_precision_backend, bf16_full_eval, fp16_full_eval, tf32, local_rank, ddp_backend, tpu_num_cores, tpu_metrics_debug, debug, dataloader_drop_last, eval_steps, dataloader_num_workers, past_index, run_name, disable_tqdm, remove_unused_columns, label_names, load_best_model_at_end, metric_for_best_model, greater_is_better, ignore_data_skip, sharded_ddp, fsdp, fsdp_min_num_params, fsdp_config, fsdp_transformer_layer_cls_to_wrap, deepspeed, label_smoothing_factor, optim, optim_args, adafactor, group_by_length, length_column_name, report_to, ddp_find_unused_parameters, ddp_bucket_cap_mb, dataloader_pin_memory, skip_memory_metrics, use_legacy_prediction_loop, push_to_hub, resume_from_checkpoint, hub_model_id, hub_strategy, hub_token, hub_private_repo, gradient_checkpointing, include_inputs_for_metrics, fp16_backend, push_to_hub_model_id, push_to_hub_organization, push_to_hub_token, mp_parameters, auto_find_batch_size, full_determinism, torchdynamo, ray_scope, ddp_timeout, torch_compile, torch_compile_backend, torch_compile_mode, xpu_backend)\u001b[0m\n",
      "File \u001b[0;32m/lnet/aic/personal/kydliceh/o2/venv/lib/python3.10/site-packages/transformers/training_args.py:1333\u001b[0m, in \u001b[0;36mTrainingArguments.__post_init__\u001b[0;34m(self)\u001b[0m\n\u001b[1;32m   1327\u001b[0m     \u001b[38;5;28;01mif\u001b[39;00m version\u001b[38;5;241m.\u001b[39mparse(version\u001b[38;5;241m.\u001b[39mparse(torch\u001b[38;5;241m.\u001b[39m__version__)\u001b[38;5;241m.\u001b[39mbase_version) \u001b[38;5;241m==\u001b[39m version\u001b[38;5;241m.\u001b[39mparse(\u001b[38;5;124m\"\u001b[39m\u001b[38;5;124m2.0.0\u001b[39m\u001b[38;5;124m\"\u001b[39m) \u001b[38;5;129;01mand\u001b[39;00m \u001b[38;5;28mself\u001b[39m\u001b[38;5;241m.\u001b[39mfp16:\n\u001b[1;32m   1328\u001b[0m         \u001b[38;5;28;01mraise\u001b[39;00m \u001b[38;5;167;01mValueError\u001b[39;00m(\u001b[38;5;124m\"\u001b[39m\u001b[38;5;124m--optim adamw_torch_fused with --fp16 requires PyTorch>2.0\u001b[39m\u001b[38;5;124m\"\u001b[39m)\n\u001b[1;32m   1330\u001b[0m \u001b[38;5;28;01mif\u001b[39;00m (\n\u001b[1;32m   1331\u001b[0m     \u001b[38;5;28mself\u001b[39m\u001b[38;5;241m.\u001b[39mframework \u001b[38;5;241m==\u001b[39m \u001b[38;5;124m\"\u001b[39m\u001b[38;5;124mpt\u001b[39m\u001b[38;5;124m\"\u001b[39m\n\u001b[1;32m   1332\u001b[0m     \u001b[38;5;129;01mand\u001b[39;00m is_torch_available()\n\u001b[0;32m-> 1333\u001b[0m     \u001b[38;5;129;01mand\u001b[39;00m (\u001b[38;5;28;43mself\u001b[39;49m\u001b[38;5;241;43m.\u001b[39;49m\u001b[43mdevice\u001b[49m\u001b[38;5;241m.\u001b[39mtype \u001b[38;5;241m!=\u001b[39m \u001b[38;5;124m\"\u001b[39m\u001b[38;5;124mcuda\u001b[39m\u001b[38;5;124m\"\u001b[39m)\n\u001b[1;32m   1334\u001b[0m     \u001b[38;5;129;01mand\u001b[39;00m (get_xla_device_type(\u001b[38;5;28mself\u001b[39m\u001b[38;5;241m.\u001b[39mdevice) \u001b[38;5;241m!=\u001b[39m \u001b[38;5;124m\"\u001b[39m\u001b[38;5;124mGPU\u001b[39m\u001b[38;5;124m\"\u001b[39m)\n\u001b[1;32m   1335\u001b[0m     \u001b[38;5;129;01mand\u001b[39;00m (\u001b[38;5;28mself\u001b[39m\u001b[38;5;241m.\u001b[39mfp16 \u001b[38;5;129;01mor\u001b[39;00m \u001b[38;5;28mself\u001b[39m\u001b[38;5;241m.\u001b[39mfp16_full_eval)\n\u001b[1;32m   1336\u001b[0m ):\n\u001b[1;32m   1337\u001b[0m     \u001b[38;5;28;01mraise\u001b[39;00m \u001b[38;5;167;01mValueError\u001b[39;00m(\n\u001b[1;32m   1338\u001b[0m         \u001b[38;5;124m\"\u001b[39m\u001b[38;5;124mFP16 Mixed precision training with AMP or APEX (`--fp16`) and FP16 half precision evaluation\u001b[39m\u001b[38;5;124m\"\u001b[39m\n\u001b[1;32m   1339\u001b[0m         \u001b[38;5;124m\"\u001b[39m\u001b[38;5;124m (`--fp16_full_eval`) can only be used on CUDA devices.\u001b[39m\u001b[38;5;124m\"\u001b[39m\n\u001b[1;32m   1340\u001b[0m     )\n\u001b[1;32m   1342\u001b[0m \u001b[38;5;28;01mif\u001b[39;00m (\n\u001b[1;32m   1343\u001b[0m     \u001b[38;5;28mself\u001b[39m\u001b[38;5;241m.\u001b[39mframework \u001b[38;5;241m==\u001b[39m \u001b[38;5;124m\"\u001b[39m\u001b[38;5;124mpt\u001b[39m\u001b[38;5;124m\"\u001b[39m\n\u001b[1;32m   1344\u001b[0m     \u001b[38;5;129;01mand\u001b[39;00m is_torch_available()\n\u001b[0;32m   (...)\u001b[0m\n\u001b[1;32m   1349\u001b[0m     \u001b[38;5;129;01mand\u001b[39;00m (\u001b[38;5;28mself\u001b[39m\u001b[38;5;241m.\u001b[39mbf16 \u001b[38;5;129;01mor\u001b[39;00m \u001b[38;5;28mself\u001b[39m\u001b[38;5;241m.\u001b[39mbf16_full_eval)\n\u001b[1;32m   1350\u001b[0m ):\n",
      "File \u001b[0;32m/lnet/aic/personal/kydliceh/o2/venv/lib/python3.10/site-packages/transformers/training_args.py:1697\u001b[0m, in \u001b[0;36mTrainingArguments.device\u001b[0;34m(self)\u001b[0m\n\u001b[1;32m   1693\u001b[0m \u001b[38;5;250m\u001b[39m\u001b[38;5;124;03m\"\"\"\u001b[39;00m\n\u001b[1;32m   1694\u001b[0m \u001b[38;5;124;03mThe device used by this process.\u001b[39;00m\n\u001b[1;32m   1695\u001b[0m \u001b[38;5;124;03m\"\"\"\u001b[39;00m\n\u001b[1;32m   1696\u001b[0m requires_backends(\u001b[38;5;28mself\u001b[39m, [\u001b[38;5;124m\"\u001b[39m\u001b[38;5;124mtorch\u001b[39m\u001b[38;5;124m\"\u001b[39m])\n\u001b[0;32m-> 1697\u001b[0m \u001b[38;5;28;01mreturn\u001b[39;00m \u001b[38;5;28;43mself\u001b[39;49m\u001b[38;5;241;43m.\u001b[39;49m\u001b[43m_setup_devices\u001b[49m\n",
      "File \u001b[0;32m/lnet/aic/personal/kydliceh/o2/venv/lib/python3.10/site-packages/transformers/utils/generic.py:54\u001b[0m, in \u001b[0;36mcached_property.__get__\u001b[0;34m(self, obj, objtype)\u001b[0m\n\u001b[1;32m     52\u001b[0m cached \u001b[38;5;241m=\u001b[39m \u001b[38;5;28mgetattr\u001b[39m(obj, attr, \u001b[38;5;28;01mNone\u001b[39;00m)\n\u001b[1;32m     53\u001b[0m \u001b[38;5;28;01mif\u001b[39;00m cached \u001b[38;5;129;01mis\u001b[39;00m \u001b[38;5;28;01mNone\u001b[39;00m:\n\u001b[0;32m---> 54\u001b[0m     cached \u001b[38;5;241m=\u001b[39m \u001b[38;5;28;43mself\u001b[39;49m\u001b[38;5;241;43m.\u001b[39;49m\u001b[43mfget\u001b[49m\u001b[43m(\u001b[49m\u001b[43mobj\u001b[49m\u001b[43m)\u001b[49m\n\u001b[1;32m     55\u001b[0m     \u001b[38;5;28msetattr\u001b[39m(obj, attr, cached)\n\u001b[1;32m     56\u001b[0m \u001b[38;5;28;01mreturn\u001b[39;00m cached\n",
      "File \u001b[0;32m/lnet/aic/personal/kydliceh/o2/venv/lib/python3.10/site-packages/transformers/training_args.py:1613\u001b[0m, in \u001b[0;36mTrainingArguments._setup_devices\u001b[0;34m(self)\u001b[0m\n\u001b[1;32m   1611\u001b[0m logger\u001b[38;5;241m.\u001b[39minfo(\u001b[38;5;124m\"\u001b[39m\u001b[38;5;124mPyTorch: setting up devices\u001b[39m\u001b[38;5;124m\"\u001b[39m)\n\u001b[1;32m   1612\u001b[0m \u001b[38;5;28;01mif\u001b[39;00m \u001b[38;5;129;01mnot\u001b[39;00m is_sagemaker_mp_enabled() \u001b[38;5;129;01mand\u001b[39;00m \u001b[38;5;129;01mnot\u001b[39;00m is_accelerate_available(check_partial_state\u001b[38;5;241m=\u001b[39m\u001b[38;5;28;01mTrue\u001b[39;00m):\n\u001b[0;32m-> 1613\u001b[0m     \u001b[38;5;28;01mraise\u001b[39;00m \u001b[38;5;167;01mImportError\u001b[39;00m(\n\u001b[1;32m   1614\u001b[0m         \u001b[38;5;124m\"\u001b[39m\u001b[38;5;124mUsing the `Trainer` with `PyTorch` requires `accelerate`: Run `pip install --upgrade accelerate`\u001b[39m\u001b[38;5;124m\"\u001b[39m\n\u001b[1;32m   1615\u001b[0m     )\n\u001b[1;32m   1616\u001b[0m \u001b[38;5;28;01mif\u001b[39;00m \u001b[38;5;28mself\u001b[39m\u001b[38;5;241m.\u001b[39mno_cuda:\n\u001b[1;32m   1617\u001b[0m     \u001b[38;5;28mself\u001b[39m\u001b[38;5;241m.\u001b[39mdistributed_state \u001b[38;5;241m=\u001b[39m PartialState(cpu\u001b[38;5;241m=\u001b[39m\u001b[38;5;28;01mTrue\u001b[39;00m, backend\u001b[38;5;241m=\u001b[39m\u001b[38;5;28mself\u001b[39m\u001b[38;5;241m.\u001b[39mddp_backend)\n",
      "\u001b[0;31mImportError\u001b[0m: Using the `Trainer` with `PyTorch` requires `accelerate`: Run `pip install --upgrade accelerate`"
     ]
    }
   ],
   "source": [
    "from transformers import TrainingArguments\n",
    "from transformers import Trainer\n",
    "from utils import get_result, get_model_folder\n",
    "\n",
    "training_args = TrainingArguments(\n",
    "    output_dir=get_model_folder(),\n",
    "    num_train_epochs=1,\n",
    "    per_device_train_batch_size=64,\n",
    "    per_device_eval_batch_size=64,\n",
    "    warmup_steps=500,\n",
    "    logging_steps=10,\n",
    "    report_to=\"wandb\",\n",
    ")\n",
    "\n",
    "\n",
    "\n",
    "compute_metrics = lambda pred: {\"f1_macro\": get_result(pred.label_ids, pred.predictions.argmax(-1)).metric_value}\n",
    "trainer = Trainer(\n",
    "    model=transformer,\n",
    "    args=training_args,\n",
    "    train_dataset=train_yelp_dataset,\n",
    "    eval_dataset=val_yelp_dataset,\n",
    "    compute_metrics=compute_metrics,\n",
    ")"
   ]
  },
  {
   "cell_type": "code",
   "execution_count": null,
   "id": "17720fb2",
   "metadata": {
    "papermill": {
     "duration": null,
     "end_time": null,
     "exception": null,
     "start_time": null,
     "status": "pending"
    },
    "tags": []
   },
   "outputs": [],
   "source": [
    "trainer.train()"
   ]
  }
 ],
 "metadata": {
  "kernelspec": {
   "display_name": "Python 3 (ipykernel)",
   "language": "python",
   "name": "python3"
  },
  "language_info": {
   "codemirror_mode": {
    "name": "ipython",
    "version": 3
   },
   "file_extension": ".py",
   "mimetype": "text/x-python",
   "name": "python",
   "nbconvert_exporter": "python",
   "pygments_lexer": "ipython3",
   "version": "3.10.4"
  },
  "papermill": {
   "default_parameters": {},
   "duration": 339.453283,
   "end_time": "2023-06-06T23:38:46.139709",
   "environment_variables": {},
   "exception": true,
   "input_path": "ml/train_hf.ipynb",
   "output_path": "transformer.ipynb",
   "parameters": {},
   "start_time": "2023-06-06T23:33:06.686426",
   "version": "2.4.0"
  }
 },
 "nbformat": 4,
 "nbformat_minor": 5
}