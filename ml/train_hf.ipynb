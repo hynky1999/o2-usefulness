{
 "cells": [
  {
   "cell_type": "code",
   "execution_count": 1,
   "metadata": {},
   "outputs": [
    {
     "name": "stderr",
     "output_type": "stream",
     "text": [
      "\u001b[34m\u001b[1mwandb\u001b[0m: Currently logged in as: \u001b[33mkydlicek-hynek\u001b[0m (\u001b[33mhynky\u001b[0m). Use \u001b[1m`wandb login --relogin`\u001b[0m to force relogin\n"
     ]
    },
    {
     "data": {
      "text/html": [
       "wandb version 0.15.4 is available!  To upgrade, please run:\n",
       " $ pip install wandb --upgrade"
      ],
      "text/plain": [
       "<IPython.core.display.HTML object>"
      ]
     },
     "metadata": {},
     "output_type": "display_data"
    },
    {
     "data": {
      "text/html": [
       "Tracking run with wandb version 0.13.10"
      ],
      "text/plain": [
       "<IPython.core.display.HTML object>"
      ]
     },
     "metadata": {},
     "output_type": "display_data"
    },
    {
     "data": {
      "text/html": [
       "Run data is saved locally in <code>/lnet/aic/personal/kydliceh/o2/ml/wandb/run-20230606_233541-ajd259p4</code>"
      ],
      "text/plain": [
       "<IPython.core.display.HTML object>"
      ]
     },
     "metadata": {},
     "output_type": "display_data"
    },
    {
     "data": {
      "text/html": [
       "Syncing run <strong><a href='https://wandb.ai/hynky/o2/runs/ajd259p4' target=\"_blank\">atomic-sponge-2</a></strong> to <a href='https://wandb.ai/hynky/o2' target=\"_blank\">Weights & Biases</a> (<a href='https://wandb.me/run' target=\"_blank\">docs</a>)<br/>"
      ],
      "text/plain": [
       "<IPython.core.display.HTML object>"
      ]
     },
     "metadata": {},
     "output_type": "display_data"
    },
    {
     "data": {
      "text/html": [
       " View project at <a href='https://wandb.ai/hynky/o2' target=\"_blank\">https://wandb.ai/hynky/o2</a>"
      ],
      "text/plain": [
       "<IPython.core.display.HTML object>"
      ]
     },
     "metadata": {},
     "output_type": "display_data"
    },
    {
     "data": {
      "text/html": [
       " View run at <a href='https://wandb.ai/hynky/o2/runs/ajd259p4' target=\"_blank\">https://wandb.ai/hynky/o2/runs/ajd259p4</a>"
      ],
      "text/plain": [
       "<IPython.core.display.HTML object>"
      ]
     },
     "metadata": {},
     "output_type": "display_data"
    }
   ],
   "source": [
    "from utils import init_experiment\n",
    "model_name = \"bert-base-uncased\"\n",
    "init_experiment({\"model\": model_name})"
   ]
  },
  {
   "cell_type": "code",
   "execution_count": 182,
   "metadata": {},
   "outputs": [],
   "source": [
    "import pandas as pd\n",
    "train = pd.read_parquet(\"../artifacts/feature_store/yelp2020/train/\")\n",
    "test = pd.read_parquet(\"../artifacts/feature_store/yelp2020/test/\")\n",
    "\n"
   ]
  },
  {
   "cell_type": "code",
   "execution_count": 185,
   "metadata": {},
   "outputs": [],
   "source": [
    "# we will use small sample of the data 200k\n",
    "train = train.sample(800000)\n",
    "# split into train and validation\n",
    "train = train.sample(frac=0.95, random_state=42)\n",
    "val = train.drop(train.index)"
   ]
  },
  {
   "cell_type": "code",
   "execution_count": 208,
   "metadata": {},
   "outputs": [],
   "source": [
    "from typing import List\n",
    "from transformers import PreTrainedTokenizer\n",
    "from datasets import Dataset\n",
    "\n",
    "\n",
    "class YelpDataset(torch.utils.data.Dataset):\n",
    "    def tokenize(self, text: List[str], tokenizer: PreTrainedTokenizer):\n",
    "        return self.tokenizer(text, truncation=True, padding=True)\n",
    "\n",
    "    def prepare_df(self, df: pd.DataFrame):\n",
    "        dataset = Dataset.from_pandas(df)\n",
    "        dataset = dataset.class_encode_column(\"usefulness\")\n",
    "        dataset = dataset.rename_column(\"usefulness\", \"labels\")\n",
    "        return dataset\n",
    "\n",
    "\n",
    "    def __init__(self, data: pd.DataFrame, tokenizer: PreTrainedTokenizer):\n",
    "        self.tokenizer = tokenizer\n",
    "        dataset = self.prepare_df(data)\n",
    "        self.tokenized_text = self.tokenize(dataset[\"text\"], tokenizer)\n",
    "        self.labels = dataset[\"labels\"]\n",
    "\n",
    "    def __len__(self):\n",
    "        return len(self.labels)\n",
    "\n",
    "    def __getitem__(self, idx):\n",
    "        return self.tokenized_text[idx], self.labels[idx]"
   ]
  },
  {
   "cell_type": "code",
   "execution_count": 1,
   "metadata": {},
   "outputs": [
    {
     "ename": "NameError",
     "evalue": "name 'YelpDataset' is not defined",
     "output_type": "error",
     "traceback": [
      "\u001b[0;31m---------------------------------------------------------------------------\u001b[0m",
      "\u001b[0;31mNameError\u001b[0m                                 Traceback (most recent call last)",
      "Cell \u001b[0;32mIn[1], line 1\u001b[0m\n\u001b[0;32m----> 1\u001b[0m train_yelp_dataset \u001b[39m=\u001b[39m YelpDataset(train, tokenizer)\n",
      "\u001b[0;31mNameError\u001b[0m: name 'YelpDataset' is not defined"
     ]
    }
   ],
   "source": [
    "from transformers import AutoTokenizer\n",
    "tokenizer = AutoTokenizer.from_pretrained(model_name)\n",
    "\n",
    "train_yelp_dataset = YelpDataset(train, tokenizer)\n",
    "val_yelp_dataset = YelpDataset(val, tokenizer)\n",
    "test_yelp_dataset = YelpDataset(test, tokenizer)"
   ]
  },
  {
   "cell_type": "code",
   "execution_count": 175,
   "metadata": {},
   "outputs": [
    {
     "name": "stderr",
     "output_type": "stream",
     "text": [
      "Some weights of the model checkpoint at distilbert-base-uncased were not used when initializing DistilBertForSequenceClassification: ['vocab_layer_norm.bias', 'vocab_projector.weight', 'vocab_transform.weight', 'vocab_layer_norm.weight', 'vocab_transform.bias', 'vocab_projector.bias']\n",
      "- This IS expected if you are initializing DistilBertForSequenceClassification from the checkpoint of a model trained on another task or with another architecture (e.g. initializing a BertForSequenceClassification model from a BertForPreTraining model).\n",
      "- This IS NOT expected if you are initializing DistilBertForSequenceClassification from the checkpoint of a model that you expect to be exactly identical (initializing a BertForSequenceClassification model from a BertForSequenceClassification model).\n",
      "Some weights of DistilBertForSequenceClassification were not initialized from the model checkpoint at distilbert-base-uncased and are newly initialized: ['classifier.bias', 'classifier.weight', 'pre_classifier.bias', 'pre_classifier.weight']\n",
      "You should probably TRAIN this model on a down-stream task to be able to use it for predictions and inference.\n"
     ]
    }
   ],
   "source": [
    "transformer = AutoModelForSequenceClassification.from_pretrained(model_name, num_labels=3)"
   ]
  },
  {
   "cell_type": "code",
   "execution_count": 179,
   "metadata": {},
   "outputs": [
    {
     "data": {
      "text/plain": [
       "{'input_ids': [101, 7592, 1010, 2023, 2028, 6251, 999, 102], 'attention_mask': [1, 1, 1, 1, 1, 1, 1, 1]}"
      ]
     },
     "execution_count": 179,
     "metadata": {},
     "output_type": "execute_result"
    }
   ],
   "source": [
    "from transformers import TrainingArguments\n",
    "from transformers import Trainer\n",
    "from utils import get_result\n",
    "\n",
    "training_args = TrainingArguments(\n",
    "    output_dir=\"../artifacts/models/yelp2020\",\n",
    "    num_train_epochs=1,\n",
    "    per_device_train_batch_size=64,\n",
    "    per_device_eval_batch_size=64,\n",
    "    warmup_steps=500,\n",
    "    logging_steps=10,\n",
    "    report_to=\"wandb\",\n",
    ")\n",
    "\n",
    "\n",
    "\n",
    "compute_metrics = lambda pred: {\"f1_macro\": get_result(pred.label_ids, pred.predictions.argmax(-1)).metric_value}\n",
    "trainer = Trainer(\n",
    "    model=transformer,\n",
    "    args=training_args,\n",
    "    train_dataset=train_yelp_dataset,\n",
    "    eval_dataset=val_yelp_dataset,\n",
    "    compute_metrics=compute_metrics,\n",
    ")"
   ]
  },
  {
   "cell_type": "code",
   "execution_count": null,
   "metadata": {},
   "outputs": [],
   "source": [
    "trainer.train()"
   ]
  }
 ],
 "metadata": {
  "kernelspec": {
   "display_name": "Python 3 (ipykernel)",
   "language": "python",
   "name": "python3"
  },
  "language_info": {
   "codemirror_mode": {
    "name": "ipython",
    "version": 3
   },
   "file_extension": ".py",
   "mimetype": "text/x-python",
   "name": "python",
   "nbconvert_exporter": "python",
   "pygments_lexer": "ipython3",
   "version": "3.10.4"
  },
  "orig_nbformat": 4
 },
 "nbformat": 4,
 "nbformat_minor": 2
}
