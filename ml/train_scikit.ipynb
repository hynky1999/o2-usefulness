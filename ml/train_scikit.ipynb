{
 "cells": [
  {
   "attachments": {},
   "cell_type": "markdown",
   "metadata": {},
   "source": [
    "### Notebook showcasing how we would train the model using scikit-learn"
   ]
  },
  {
   "attachments": {},
   "cell_type": "markdown",
   "metadata": {},
   "source": [
    "Make sure you are logged in to wandb, and have o2 project"
   ]
  },
  {
   "cell_type": "code",
   "execution_count": 76,
   "metadata": {},
   "outputs": [
    {
     "name": "stdout",
     "output_type": "stream",
     "text": [
      "\u001b[34m\u001b[1mwandb\u001b[0m: Currently logged in as: \u001b[33mkydlicek-hynek\u001b[0m (\u001b[33mhynky\u001b[0m). Use \u001b[1m`wandb login --relogin`\u001b[0m to force relogin\n"
     ]
    }
   ],
   "source": [
    "!wandb login"
   ]
  },
  {
   "cell_type": "code",
   "execution_count": 87,
   "metadata": {},
   "outputs": [
    {
     "name": "stderr",
     "output_type": "stream",
     "text": [
      "\u001b[34m\u001b[1mwandb\u001b[0m: Currently logged in as: \u001b[33mkydlicek-hynek\u001b[0m (\u001b[33mhynky\u001b[0m). Use \u001b[1m`wandb login --relogin`\u001b[0m to force relogin\n"
     ]
    },
    {
     "data": {
      "text/html": [
       "wandb version 0.15.3 is available!  To upgrade, please run:\n",
       " $ pip install wandb --upgrade"
      ],
      "text/plain": [
       "<IPython.core.display.HTML object>"
      ]
     },
     "metadata": {},
     "output_type": "display_data"
    },
    {
     "data": {
      "text/html": [
       "Tracking run with wandb version 0.13.10"
      ],
      "text/plain": [
       "<IPython.core.display.HTML object>"
      ]
     },
     "metadata": {},
     "output_type": "display_data"
    },
    {
     "data": {
      "text/html": [
       "Run data is saved locally in <code>/lnet/aic/personal/kydliceh/o2/ml/wandb/run-20230606_223841-4uh5z81h</code>"
      ],
      "text/plain": [
       "<IPython.core.display.HTML object>"
      ]
     },
     "metadata": {},
     "output_type": "display_data"
    },
    {
     "data": {
      "text/html": [
       "Syncing run <strong><a href='https://wandb.ai/hynky/o2/runs/4uh5z81h' target=\"_blank\">polished-firefly-1</a></strong> to <a href='https://wandb.ai/hynky/o2' target=\"_blank\">Weights & Biases</a> (<a href='https://wandb.me/run' target=\"_blank\">docs</a>)<br/>"
      ],
      "text/plain": [
       "<IPython.core.display.HTML object>"
      ]
     },
     "metadata": {},
     "output_type": "display_data"
    },
    {
     "data": {
      "text/html": [
       " View project at <a href='https://wandb.ai/hynky/o2' target=\"_blank\">https://wandb.ai/hynky/o2</a>"
      ],
      "text/plain": [
       "<IPython.core.display.HTML object>"
      ]
     },
     "metadata": {},
     "output_type": "display_data"
    },
    {
     "data": {
      "text/html": [
       " View run at <a href='https://wandb.ai/hynky/o2/runs/4uh5z81h' target=\"_blank\">https://wandb.ai/hynky/o2/runs/4uh5z81h</a>"
      ],
      "text/plain": [
       "<IPython.core.display.HTML object>"
      ]
     },
     "metadata": {},
     "output_type": "display_data"
    }
   ],
   "source": [
    "from utils import init_experiment\n",
    "init_experiment({\"dataset\": \"yelp2020\"})"
   ]
  },
  {
   "cell_type": "code",
   "execution_count": 15,
   "metadata": {},
   "outputs": [],
   "source": [
    "import pandas as pd\n",
    "# point it to the files created by pipeline\n",
    "train = pd.read_parquet(\"../artifacts/feature_store/yelp2020/train\")\n",
    "test = pd.read_parquet(\"../artifacts/feature_store/yelp2020/test\")\n",
    "\n",
    "\n",
    "# For training we don't need that much data\n",
    "train = train.sample(400000, random_state=42)"
   ]
  },
  {
   "cell_type": "code",
   "execution_count": null,
   "metadata": {},
   "outputs": [],
   "source": []
  },
  {
   "cell_type": "code",
   "execution_count": 8,
   "metadata": {},
   "outputs": [],
   "source": [
    "num_features = [\"user_age\", \"user_review_count\", \"user_cool\", \"user_funny\", \"user_fans\", \"user_average_stars\", \"user_compliment_cool\", \"user_compliment_cute\", \"user_compliment_list\", \"text_length\", \"text_words\"]\n",
    "categorical = [\"stars\"]\n",
    "vector = [\"text_tfidf\"]\n",
    "target = \"usefulness\""
   ]
  },
  {
   "cell_type": "code",
   "execution_count": 89,
   "metadata": {},
   "outputs": [],
   "source": [
    "from preprocessing import create_preprocessor\n",
    "from utils import get_cv_metric\n",
    "from sklearn.linear_model import SGDClassifier\n",
    "from sklearn.svm import SVC\n",
    "from sklearn.naive_bayes import MultinomialNB\n",
    "from sklearn.model_selection import GridSearchCV\n",
    "from sklearn.pipeline import Pipeline\n",
    "from xgboost import XGBClassifier\n",
    "\n",
    "sgd = Pipeline(steps=[('preprocessor', create_preprocessor(num_features, categorical, vector)),\n",
    "                            ('cv', GridSearchCV(SGDClassifier(), param_grid={'alpha': [0.01, 0.1]}, cv=5, verbose=1, n_jobs=4,\n",
    "                                                scoring=get_cv_metric()\n",
    "                                                \n",
    "                                                ))\n",
    "                            ], verbose=True)\n",
    "\n",
    "# Don't use numerical values as we can't scale them\n",
    "bayes = Pipeline(steps=[('preprocessor', create_preprocessor([], categorical, vector)),\n",
    "                            ('cv', GridSearchCV(MultinomialNB(), param_grid={'alpha': [0.01, 0.1]}, cv=5, verbose=1, n_jobs=4,\n",
    "                                                scoring=get_cv_metric()\n",
    "                                                ))\n",
    "                            ], verbose=True)\n",
    "\n",
    "xgb = Pipeline(steps=[('preprocessor', create_preprocessor(num_features, categorical, vector)),\n",
    "                            ('cv', GridSearchCV(XGBClassifier(), param_grid={'max_depth': [3, 5]}, cv=5, verbose=1, n_jobs=4,\n",
    "                                                scoring=get_cv_metric()))\n",
    "                            ], verbose=True)\n",
    "\n",
    "\n",
    "models = {\n",
    "    \"sgd\": sgd,\n",
    "    \"bayes\": bayes,\n",
    "    \"xgb\": xgb\n",
    "}"
   ]
  },
  {
   "cell_type": "code",
   "execution_count": 90,
   "metadata": {},
   "outputs": [],
   "source": [
    "# No splitting as we using external test set\n",
    "assert(train.columns.equals(test.columns))\n",
    "X_train = train.drop(target, axis=1)\n",
    "y_train = train[target]\n",
    "\n",
    "X_test = test.drop(target, axis=1)\n",
    "y_test = test[target]"
   ]
  },
  {
   "cell_type": "code",
   "execution_count": 91,
   "metadata": {},
   "outputs": [
    {
     "name": "stdout",
     "output_type": "stream",
     "text": [
      "[Pipeline] ...... (step 1 of 2) Processing preprocessor, total=  48.1s\n",
      "Fitting 5 folds for each of 2 candidates, totalling 10 fits\n",
      "[Pipeline] ................ (step 2 of 2) Processing cv, total=  40.7s\n",
      "[Pipeline] ...... (step 1 of 2) Processing preprocessor, total=  48.4s\n",
      "Fitting 5 folds for each of 2 candidates, totalling 10 fits\n",
      "[Pipeline] ................ (step 2 of 2) Processing cv, total=  13.3s\n"
     ]
    }
   ],
   "source": [
    "for model in models.values():\n",
    "    model.fit(X_train, y_train)"
   ]
  },
  {
   "cell_type": "code",
   "execution_count": 137,
   "metadata": {},
   "outputs": [],
   "source": [
    "from typing import Dict\n",
    "from matplotlib import pyplot as plt\n",
    "from utils import Result, get_result\n",
    "scores: Dict[str, Result] = {}\n",
    "\n",
    "for i, (name, model) in enumerate(models.items()):\n",
    "    y_pred = model.predict(X_test)\n",
    "    scores[name] = get_result(y_test, y_pred)"
   ]
  },
  {
   "cell_type": "code",
   "execution_count": 110,
   "metadata": {},
   "outputs": [],
   "source": [
    "a = {name: score.metric_value for name, score in scores.items()}"
   ]
  },
  {
   "cell_type": "code",
   "execution_count": 115,
   "metadata": {},
   "outputs": [],
   "source": [
    "df = pd.DataFrame(a, index=[\"result\"]).T"
   ]
  },
  {
   "cell_type": "code",
   "execution_count": 125,
   "metadata": {},
   "outputs": [
    {
     "data": {
      "text/plain": [
       "<AxesSubplot: title={'center': 'Model Comparison'}, xlabel='Modles'>"
      ]
     },
     "execution_count": 125,
     "metadata": {},
     "output_type": "execute_result"
    },
    {
     "data": {
      "image/png": "[encoded data removed]",
      "text/plain": [
       "<Figure size 1000x1000 with 1 Axes>"
      ]
     },
     "metadata": {},
     "output_type": "display_data"
    }
   ],
   "source": [
    "fig = plt.figure(figsize=(10, 10))\n",
    "ax = fig.add_subplot(1, 1, 1)\n",
    "# Plot the scores\n",
    "scores_df = pd.DataFrame({name: score.metric_value for name, score in scores.items()}, index=[get_cv_metric()]).T\n",
    "scores_df.plot.bar(ax=ax, xlabel=\"Modles\", title=\"Model Comparison\")"
   ]
  },
  {
   "cell_type": "code",
   "execution_count": 133,
   "metadata": {},
   "outputs": [],
   "source": [
    "best_model = max(scores.items(), key=lambda x: x[1].metric_value)"
   ]
  },
  {
   "cell_type": "code",
   "execution_count": 140,
   "metadata": {},
   "outputs": [
    {
     "ename": "SyntaxError",
     "evalue": "invalid syntax. Perhaps you forgot a comma? (976274005.py, line 10)",
     "output_type": "error",
     "traceback": [
      "\u001b[0;36m  Cell \u001b[0;32mIn[140], line 10\u001b[0;36m\u001b[0m\n\u001b[0;31m    create_confusion_matrix(y_pred, y_test ax=ax, labels=labels)\u001b[0m\n\u001b[0m                                    ^\u001b[0m\n\u001b[0;31mSyntaxError\u001b[0m\u001b[0;31m:\u001b[0m invalid syntax. Perhaps you forgot a comma?\n"
     ]
    }
   ],
   "source": [
    "# Plot confusion matrix and show classification report\n",
    "from sklearn.metrics import classification_report\n",
    "from utils import create_confusion_matrix\n",
    "\n",
    "fig, ax = plt.subplots(1,1, figsize=(10, 10))\n",
    "y_pred = models[best_model[0]].predict(X_test)\n",
    "labels = test[target].unique().tolist()\n",
    "\n",
    "\n",
    "create_confusion_matrix(y_pred, y_test, ax=ax, labels=labels)\n",
    "fig.show()"
   ]
  },
  {
   "cell_type": "code",
   "execution_count": 139,
   "metadata": {},
   "outputs": [
    {
     "ename": "NameError",
     "evalue": "name 'y_pred' is not defined",
     "output_type": "error",
     "traceback": [
      "\u001b[0;31m---------------------------------------------------------------------------\u001b[0m",
      "\u001b[0;31mNameError\u001b[0m                                 Traceback (most recent call last)",
      "Cell \u001b[0;32mIn[139], line 1\u001b[0m\n\u001b[0;32m----> 1\u001b[0m report \u001b[39m=\u001b[39m classification_report(y_test, y_pred, labels\u001b[39m=\u001b[39mlabels, output_dict\u001b[39m=\u001b[39m\u001b[39mTrue\u001b[39;00m)\n\u001b[1;32m      2\u001b[0m report_df \u001b[39m=\u001b[39m pd\u001b[39m.\u001b[39mDataFrame(report)\n\u001b[1;32m      3\u001b[0m report_df\n",
      "\u001b[0;31mNameError\u001b[0m: name 'y_pred' is not defined"
     ]
    }
   ],
   "source": [
    "report = classification_report(y_test, y_pred, labels=labels, output_dict=True)\n",
    "report_df = pd.DataFrame(report)\n",
    "report_df"
   ]
  },
  {
   "cell_type": "code",
   "execution_count": 132,
   "metadata": {},
   "outputs": [],
   "source": [
    "from utils import save_experiment\n",
    "\n",
    "a = save_experiment(models[best_model[0]], best_model[1])\n"
   ]
  },
  {
   "cell_type": "code",
   "execution_count": null,
   "metadata": {},
   "outputs": [],
   "source": []
  }
 ],
 "metadata": {
  "kernelspec": {
   "display_name": "Python 3 (ipykernel)",
   "language": "python",
   "name": "python3"
  },
  "language_info": {
   "codemirror_mode": {
    "name": "ipython",
    "version": 3
   },
   "file_extension": ".py",
   "mimetype": "text/x-python",
   "name": "python",
   "nbconvert_exporter": "python",
   "pygments_lexer": "ipython3",
   "version": "3.10.4"
  },
  "orig_nbformat": 4
 },
 "nbformat": 4,
 "nbformat_minor": 2
}
