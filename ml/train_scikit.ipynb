{
 "cells": [
  {
   "attachments": {},
   "cell_type": "markdown",
   "metadata": {},
   "source": [
    "### Notebook showcasing how we would train the model using scikit-learn"
   ]
  },
  {
   "attachments": {},
   "cell_type": "markdown",
   "metadata": {},
   "source": [
    "Make sure you are logged in to wandb, and have o2 project"
   ]
  },
  {
   "cell_type": "code",
   "execution_count": 76,
   "metadata": {},
   "outputs": [
    {
     "name": "stdout",
     "output_type": "stream",
     "text": [
      "\u001b[34m\u001b[1mwandb\u001b[0m: Currently logged in as: \u001b[33mkydlicek-hynek\u001b[0m (\u001b[33mhynky\u001b[0m). Use \u001b[1m`wandb login --relogin`\u001b[0m to force relogin\n"
     ]
    }
   ],
   "source": [
    "!wandb login"
   ]
  },
  {
   "cell_type": "code",
   "execution_count": 36,
   "metadata": {},
   "outputs": [
    {
     "data": {
      "text/html": [
       "Finishing last run (ID:az0jkyf2) before initializing another..."
      ],
      "text/plain": [
       "<IPython.core.display.HTML object>"
      ]
     },
     "metadata": {},
     "output_type": "display_data"
    },
    {
     "data": {
      "text/html": [
       "Waiting for W&B process to finish... <strong style=\"color:green\">(success).</strong>"
      ],
      "text/plain": [
       "<IPython.core.display.HTML object>"
      ]
     },
     "metadata": {},
     "output_type": "display_data"
    },
    {
     "data": {
      "application/vnd.jupyter.widget-view+json": {
       "model_id": "cb1c477f26d647c898ad4bf76aaaff72",
       "version_major": 2,
       "version_minor": 0
      },
      "text/plain": [
       "VBox(children=(Label(value='0.004 MB of 0.004 MB uploaded (0.000 MB deduped)\\r'), FloatProgress(value=1.0, max…"
      ]
     },
     "metadata": {},
     "output_type": "display_data"
    },
    {
     "data": {
      "text/html": [
       " View run <strong style=\"color:#cdcd00\">treasured-frost-7</strong> at: <a href='https://wandb.ai/hynky/o2/runs/az0jkyf2' target=\"_blank\">https://wandb.ai/hynky/o2/runs/az0jkyf2</a><br/>Synced 5 W&B file(s), 0 media file(s), 0 artifact file(s) and 0 other file(s)"
      ],
      "text/plain": [
       "<IPython.core.display.HTML object>"
      ]
     },
     "metadata": {},
     "output_type": "display_data"
    },
    {
     "data": {
      "text/html": [
       "Find logs at: <code>./wandb/run-20230607_002824-az0jkyf2/logs</code>"
      ],
      "text/plain": [
       "<IPython.core.display.HTML object>"
      ]
     },
     "metadata": {},
     "output_type": "display_data"
    },
    {
     "data": {
      "text/html": [
       "Successfully finished last run (ID:az0jkyf2). Initializing new run:<br/>"
      ],
      "text/plain": [
       "<IPython.core.display.HTML object>"
      ]
     },
     "metadata": {},
     "output_type": "display_data"
    },
    {
     "data": {
      "text/html": [
       "wandb version 0.15.4 is available!  To upgrade, please run:\n",
       " $ pip install wandb --upgrade"
      ],
      "text/plain": [
       "<IPython.core.display.HTML object>"
      ]
     },
     "metadata": {},
     "output_type": "display_data"
    },
    {
     "data": {
      "text/html": [
       "Tracking run with wandb version 0.13.10"
      ],
      "text/plain": [
       "<IPython.core.display.HTML object>"
      ]
     },
     "metadata": {},
     "output_type": "display_data"
    },
    {
     "data": {
      "text/html": [
       "Run data is saved locally in <code>/lnet/aic/personal/kydliceh/o2/ml/wandb/run-20230607_010618-75jp7abe</code>"
      ],
      "text/plain": [
       "<IPython.core.display.HTML object>"
      ]
     },
     "metadata": {},
     "output_type": "display_data"
    },
    {
     "data": {
      "text/html": [
       "Syncing run <strong><a href='https://wandb.ai/hynky/o2/runs/75jp7abe' target=\"_blank\">autumn-lion-11</a></strong> to <a href='https://wandb.ai/hynky/o2' target=\"_blank\">Weights & Biases</a> (<a href='https://wandb.me/run' target=\"_blank\">docs</a>)<br/>"
      ],
      "text/plain": [
       "<IPython.core.display.HTML object>"
      ]
     },
     "metadata": {},
     "output_type": "display_data"
    },
    {
     "data": {
      "text/html": [
       " View project at <a href='https://wandb.ai/hynky/o2' target=\"_blank\">https://wandb.ai/hynky/o2</a>"
      ],
      "text/plain": [
       "<IPython.core.display.HTML object>"
      ]
     },
     "metadata": {},
     "output_type": "display_data"
    },
    {
     "data": {
      "text/html": [
       " View run at <a href='https://wandb.ai/hynky/o2/runs/75jp7abe' target=\"_blank\">https://wandb.ai/hynky/o2/runs/75jp7abe</a>"
      ],
      "text/plain": [
       "<IPython.core.display.HTML object>"
      ]
     },
     "metadata": {},
     "output_type": "display_data"
    }
   ],
   "source": [
    "from utils import init_experiment\n",
    "init_experiment({\"dataset\": \"yelp2020\"})"
   ]
  },
  {
   "cell_type": "code",
   "execution_count": 55,
   "metadata": {},
   "outputs": [],
   "source": [
    "import pandas as pd\n",
    "# point it to the files created by pipeline\n",
    "train = pd.read_parquet(\"../artifacts/feature_store/yelp2020/train\")\n",
    "test = pd.read_parquet(\"../artifacts/feature_store/yelp2020/test\")\n",
    "\n",
    "\n",
    "# For training we don't need that much data\n",
    "train = train.sample(150000, random_state=42)"
   ]
  },
  {
   "cell_type": "code",
   "execution_count": 56,
   "metadata": {},
   "outputs": [],
   "source": [
    "# Convert string usefulness label to int\n",
    "labels = test[\"usefulness\"].unique().tolist()\n",
    "train[\"usefulness\"] = train[\"usefulness\"].apply(lambda x: int(labels.index(x)))\n",
    "test[\"usefulness\"] = test[\"usefulness\"].apply(lambda x: int(labels.index(x)))"
   ]
  },
  {
   "cell_type": "code",
   "execution_count": 41,
   "metadata": {},
   "outputs": [],
   "source": [
    "num_features = [\"user_age\", \"user_review_count\", \"user_cool\", \"user_funny\", \"user_fans\", \"user_average_stars\", \"user_compliment_cool\", \"user_compliment_cute\", \"user_compliment_list\", \"text_length\", \"text_words\"]\n",
    "categorical = [\"stars\"]\n",
    "vector = [\"text_tfidf\"]\n",
    "target = \"usefulness\""
   ]
  },
  {
   "cell_type": "code",
   "execution_count": 89,
   "metadata": {},
   "outputs": [],
   "source": [
    "from preprocessing import create_preprocessor\n",
    "from utils import get_cv_metric\n",
    "from sklearn.linear_model import SGDClassifier\n",
    "from sklearn.svm import SVC\n",
    "from sklearn.naive_bayes import MultinomialNB\n",
    "from sklearn.model_selection import GridSearchCV\n",
    "from sklearn.pipeline import Pipeline\n",
    "from sklearn.preprocessing import FunctionTransformer\n",
    "from xgboost import XGBClassifier\n",
    "\n",
    "\n",
    "# Have to do it this was as otherwise it won't pickle\n",
    "NUM_TFIDF_FEATURES = 50000\n",
    "def reduce_tfidf_features(X):\n",
    "    return X[:, :NUM_TFIDF_FEATURES]\n",
    "\n",
    "\n",
    "sgd = Pipeline(steps=[('preprocessor', create_preprocessor(num_features, categorical, vector)), (\"reduce\", FunctionTransformer(reduce_tfidf_features, validate=False)),\n",
    "                            ('cv', GridSearchCV(SGDClassifier(tol=1e-5), param_grid={'alpha': [0.01, 0.1]}, cv=5, verbose=1, n_jobs=4,\n",
    "                                                scoring=get_cv_metric()\n",
    "                                                \n",
    "                                                ))\n",
    "                            ], verbose=True)\n",
    "\n",
    "# Don't use numerical values as we can't scale them\n",
    "bayes = Pipeline(steps=[('preprocessor', create_preprocessor([], categorical, vector)), (\"reduce\", FunctionTransformer(reduce_tfidf_features, validate=False)),\n",
    "                            ('cv', GridSearchCV(MultinomialNB(), param_grid={'alpha': [0.01, 0.1]}, cv=5, verbose=1, n_jobs=4,\n",
    "                                                scoring=get_cv_metric()\n",
    "                                                ))\n",
    "                            ], verbose=True)\n",
    "\n",
    "xgb = Pipeline(steps=[('preprocessor', create_preprocessor(num_features, categorical, vector)), (\"reduce\", FunctionTransformer(reduce_tfidf_features, validate=False)),\n",
    "                            ('cv', GridSearchCV(XGBClassifier(), param_grid={'max_depth': [3, 5] }, cv=5, verbose=1, n_jobs=4,\n",
    "                                                scoring=get_cv_metric()\n",
    "                                                \n",
    "                                                ))\n",
    "                            ], verbose=True)\n",
    "\n",
    "\n",
    "models = {\n",
    "    \"sgd\": sgd,\n",
    "    \"bayes\": bayes,\n",
    "    \"xgb\": xgb\n",
    "}"
   ]
  },
  {
   "cell_type": "code",
   "execution_count": 90,
   "metadata": {},
   "outputs": [],
   "source": [
    "# No splitting as we using external test set\n",
    "assert(train.columns.equals(test.columns))\n",
    "X_train = train.drop(target, axis=1)\n",
    "y_train = train[target]\n",
    "\n",
    "X_test = test.drop(target, axis=1)\n",
    "y_test = test[target]"
   ]
  },
  {
   "cell_type": "code",
   "execution_count": 91,
   "metadata": {},
   "outputs": [
    {
     "name": "stdout",
     "output_type": "stream",
     "text": [
      "[Pipeline] ...... (step 1 of 3) Processing preprocessor, total=  18.6s\n",
      "[Pipeline] ............ (step 2 of 3) Processing reduce, total=   0.1s\n",
      "Fitting 5 folds for each of 2 candidates, totalling 10 fits\n",
      "[Pipeline] ................ (step 3 of 3) Processing cv, total=  15.0s\n",
      "[Pipeline] ...... (step 1 of 3) Processing preprocessor, total=  17.2s\n",
      "[Pipeline] ............ (step 2 of 3) Processing reduce, total=   0.1s\n",
      "Fitting 5 folds for each of 2 candidates, totalling 10 fits\n",
      "[Pipeline] ................ (step 3 of 3) Processing cv, total=   0.5s\n"
     ]
    }
   ],
   "source": [
    "for model in models.values():\n",
    "    model.fit(X_train, y_train)"
   ]
  },
  {
   "cell_type": "code",
   "execution_count": null,
   "metadata": {},
   "outputs": [
    {
     "ename": "NotFittedError",
     "evalue": "This GridSearchCV instance is not fitted yet. Call 'fit' with appropriate arguments before using this estimator.",
     "output_type": "error",
     "traceback": [
      "\u001b[0;31m---------------------------------------------------------------------------\u001b[0m",
      "\u001b[0;31mNotFittedError\u001b[0m                            Traceback (most recent call last)",
      "Cell \u001b[0;32mIn[28], line 7\u001b[0m\n\u001b[1;32m      4\u001b[0m scores: Dict[\u001b[39mstr\u001b[39m, Result] \u001b[39m=\u001b[39m {}\n\u001b[1;32m      6\u001b[0m \u001b[39mfor\u001b[39;00m i, (name, model) \u001b[39min\u001b[39;00m \u001b[39menumerate\u001b[39m(models\u001b[39m.\u001b[39mitems()):\n\u001b[0;32m----> 7\u001b[0m     y_pred \u001b[39m=\u001b[39m model\u001b[39m.\u001b[39;49mpredict(X_test)\n\u001b[1;32m      8\u001b[0m     scores[name] \u001b[39m=\u001b[39m get_result(y_test, y_pred)\n",
      "File \u001b[0;32m/lnet/aic/personal/kydliceh/non_runable/NLP_venv/lib/python3.10/site-packages/sklearn/pipeline.py:481\u001b[0m, in \u001b[0;36mPipeline.predict\u001b[0;34m(self, X, **predict_params)\u001b[0m\n\u001b[1;32m    479\u001b[0m \u001b[39mfor\u001b[39;00m _, name, transform \u001b[39min\u001b[39;00m \u001b[39mself\u001b[39m\u001b[39m.\u001b[39m_iter(with_final\u001b[39m=\u001b[39m\u001b[39mFalse\u001b[39;00m):\n\u001b[1;32m    480\u001b[0m     Xt \u001b[39m=\u001b[39m transform\u001b[39m.\u001b[39mtransform(Xt)\n\u001b[0;32m--> 481\u001b[0m \u001b[39mreturn\u001b[39;00m \u001b[39mself\u001b[39;49m\u001b[39m.\u001b[39;49msteps[\u001b[39m-\u001b[39;49m\u001b[39m1\u001b[39;49m][\u001b[39m1\u001b[39;49m]\u001b[39m.\u001b[39;49mpredict(Xt, \u001b[39m*\u001b[39;49m\u001b[39m*\u001b[39;49mpredict_params)\n",
      "File \u001b[0;32m/lnet/aic/personal/kydliceh/non_runable/NLP_venv/lib/python3.10/site-packages/sklearn/model_selection/_search.py:498\u001b[0m, in \u001b[0;36mBaseSearchCV.predict\u001b[0;34m(self, X)\u001b[0m\n\u001b[1;32m    479\u001b[0m \u001b[39m@available_if\u001b[39m(_estimator_has(\u001b[39m\"\u001b[39m\u001b[39mpredict\u001b[39m\u001b[39m\"\u001b[39m))\n\u001b[1;32m    480\u001b[0m \u001b[39mdef\u001b[39;00m \u001b[39mpredict\u001b[39m(\u001b[39mself\u001b[39m, X):\n\u001b[1;32m    481\u001b[0m \u001b[39m    \u001b[39m\u001b[39m\"\"\"Call predict on the estimator with the best found parameters.\u001b[39;00m\n\u001b[1;32m    482\u001b[0m \n\u001b[1;32m    483\u001b[0m \u001b[39m    Only available if ``refit=True`` and the underlying estimator supports\u001b[39;00m\n\u001b[0;32m   (...)\u001b[0m\n\u001b[1;32m    496\u001b[0m \u001b[39m        the best found parameters.\u001b[39;00m\n\u001b[1;32m    497\u001b[0m \u001b[39m    \"\"\"\u001b[39;00m\n\u001b[0;32m--> 498\u001b[0m     check_is_fitted(\u001b[39mself\u001b[39;49m)\n\u001b[1;32m    499\u001b[0m     \u001b[39mreturn\u001b[39;00m \u001b[39mself\u001b[39m\u001b[39m.\u001b[39mbest_estimator_\u001b[39m.\u001b[39mpredict(X)\n",
      "File \u001b[0;32m/lnet/aic/personal/kydliceh/non_runable/NLP_venv/lib/python3.10/site-packages/sklearn/utils/validation.py:1390\u001b[0m, in \u001b[0;36mcheck_is_fitted\u001b[0;34m(estimator, attributes, msg, all_or_any)\u001b[0m\n\u001b[1;32m   1385\u001b[0m     fitted \u001b[39m=\u001b[39m [\n\u001b[1;32m   1386\u001b[0m         v \u001b[39mfor\u001b[39;00m v \u001b[39min\u001b[39;00m \u001b[39mvars\u001b[39m(estimator) \u001b[39mif\u001b[39;00m v\u001b[39m.\u001b[39mendswith(\u001b[39m\"\u001b[39m\u001b[39m_\u001b[39m\u001b[39m\"\u001b[39m) \u001b[39mand\u001b[39;00m \u001b[39mnot\u001b[39;00m v\u001b[39m.\u001b[39mstartswith(\u001b[39m\"\u001b[39m\u001b[39m__\u001b[39m\u001b[39m\"\u001b[39m)\n\u001b[1;32m   1387\u001b[0m     ]\n\u001b[1;32m   1389\u001b[0m \u001b[39mif\u001b[39;00m \u001b[39mnot\u001b[39;00m fitted:\n\u001b[0;32m-> 1390\u001b[0m     \u001b[39mraise\u001b[39;00m NotFittedError(msg \u001b[39m%\u001b[39m {\u001b[39m\"\u001b[39m\u001b[39mname\u001b[39m\u001b[39m\"\u001b[39m: \u001b[39mtype\u001b[39m(estimator)\u001b[39m.\u001b[39m\u001b[39m__name__\u001b[39m})\n",
      "\u001b[0;31mNotFittedError\u001b[0m: This GridSearchCV instance is not fitted yet. Call 'fit' with appropriate arguments before using this estimator."
     ]
    }
   ],
   "source": [
    "from typing import Dict\n",
    "from matplotlib import pyplot as plt\n",
    "from utils import Result, get_result\n",
    "scores: Dict[str, Result] = {}\n",
    "\n",
    "for i, (name, model) in enumerate(models.items()):\n",
    "    y_pred = model.predict(X_test)\n",
    "    scores[name] = get_result(y_test, y_pred)"
   ]
  },
  {
   "cell_type": "code",
   "execution_count": null,
   "metadata": {},
   "outputs": [],
   "source": [
    "a = {name: score.metric_value for name, score in scores.items()}"
   ]
  },
  {
   "cell_type": "code",
   "execution_count": null,
   "metadata": {},
   "outputs": [],
   "source": [
    "df = pd.DataFrame(a, index=[\"result\"]).T"
   ]
  },
  {
   "cell_type": "code",
   "execution_count": null,
   "metadata": {},
   "outputs": [
    {
     "data": {
      "text/plain": [
       "<AxesSubplot: title={'center': 'Model Comparison'}, xlabel='Modles'>"
      ]
     },
     "execution_count": 125,
     "metadata": {},
     "output_type": "execute_result"
    },
    {
     "data": {
      "image/png": "[encoded data removed]",
      "text/plain": [
       "<Figure size 1000x1000 with 1 Axes>"
      ]
     },
     "metadata": {},
     "output_type": "display_data"
    }
   ],
   "source": [
    "fig = plt.figure(figsize=(10, 10))\n",
    "ax = fig.add_subplot(1, 1, 1)\n",
    "# Plot the scores\n",
    "scores_df = pd.DataFrame({name: score.metric_value for name, score in scores.items()}, index=[get_cv_metric()]).T\n",
    "scores_df.plot.bar(ax=ax, xlabel=\"Modles\", title=\"Model Comparison\")"
   ]
  },
  {
   "cell_type": "code",
   "execution_count": 133,
   "metadata": {},
   "outputs": [],
   "source": [
    "best_model = max(scores.items(), key=lambda x: x[1].metric_value)"
   ]
  },
  {
   "cell_type": "code",
   "execution_count": 141,
   "metadata": {},
   "outputs": [
    {
     "data": {
      "image/png": "[encoded data removed]",
      "text/plain": [
       "<Figure size 1000x1000 with 2 Axes>"
      ]
     },
     "metadata": {},
     "output_type": "display_data"
    }
   ],
   "source": [
    "# Plot confusion matrix and show classification report\n",
    "from sklearn.metrics import classification_report\n",
    "from utils import create_confusion_matrix\n",
    "\n",
    "fig, ax = plt.subplots(1,1, figsize=(10, 10))\n",
    "y_pred = models[best_model[0]].predict(X_test)\n",
    "labels = test[target].unique().tolist()\n",
    "\n",
    "\n",
    "create_confusion_matrix(y_pred, y_test, ax=ax, labels=labels)\n",
    "fig.show()"
   ]
  },
  {
   "cell_type": "code",
   "execution_count": 142,
   "metadata": {},
   "outputs": [
    {
     "data": {
      "text/html": [
       "<div>\n",
       "<style scoped>\n",
       "    .dataframe tbody tr th:only-of-type {\n",
       "        vertical-align: middle;\n",
       "    }\n",
       "\n",
       "    .dataframe tbody tr th {\n",
       "        vertical-align: top;\n",
       "    }\n",
       "\n",
       "    .dataframe thead th {\n",
       "        text-align: right;\n",
       "    }\n",
       "</style>\n",
       "<table border=\"1\" class=\"dataframe\">\n",
       "  <thead>\n",
       "    <tr style=\"text-align: right;\">\n",
       "      <th></th>\n",
       "      <th>Not useful</th>\n",
       "      <th>Useful</th>\n",
       "      <th>Very useful</th>\n",
       "      <th>accuracy</th>\n",
       "      <th>macro avg</th>\n",
       "      <th>weighted avg</th>\n",
       "    </tr>\n",
       "  </thead>\n",
       "  <tbody>\n",
       "    <tr>\n",
       "      <th>precision</th>\n",
       "      <td>0.838189</td>\n",
       "      <td>0.257598</td>\n",
       "      <td>0.142559</td>\n",
       "      <td>0.632548</td>\n",
       "      <td>0.412782</td>\n",
       "      <td>0.697290</td>\n",
       "    </tr>\n",
       "    <tr>\n",
       "      <th>recall</th>\n",
       "      <td>0.744268</td>\n",
       "      <td>0.195682</td>\n",
       "      <td>0.466209</td>\n",
       "      <td>0.632548</td>\n",
       "      <td>0.468720</td>\n",
       "      <td>0.632548</td>\n",
       "    </tr>\n",
       "    <tr>\n",
       "      <th>f1-score</th>\n",
       "      <td>0.788442</td>\n",
       "      <td>0.222412</td>\n",
       "      <td>0.218350</td>\n",
       "      <td>0.632548</td>\n",
       "      <td>0.409734</td>\n",
       "      <td>0.657179</td>\n",
       "    </tr>\n",
       "    <tr>\n",
       "      <th>support</th>\n",
       "      <td>269474.000000</td>\n",
       "      <td>61375.000000</td>\n",
       "      <td>19798.000000</td>\n",
       "      <td>0.632548</td>\n",
       "      <td>350647.000000</td>\n",
       "      <td>350647.000000</td>\n",
       "    </tr>\n",
       "  </tbody>\n",
       "</table>\n",
       "</div>"
      ],
      "text/plain": [
       "              Not useful        Useful   Very useful  accuracy      macro avg  \\\n",
       "precision       0.838189      0.257598      0.142559  0.632548       0.412782   \n",
       "recall          0.744268      0.195682      0.466209  0.632548       0.468720   \n",
       "f1-score        0.788442      0.222412      0.218350  0.632548       0.409734   \n",
       "support    269474.000000  61375.000000  19798.000000  0.632548  350647.000000   \n",
       "\n",
       "            weighted avg  \n",
       "precision       0.697290  \n",
       "recall          0.632548  \n",
       "f1-score        0.657179  \n",
       "support    350647.000000  "
      ]
     },
     "execution_count": 142,
     "metadata": {},
     "output_type": "execute_result"
    }
   ],
   "source": [
    "report = classification_report(y_test, y_pred, labels=labels, output_dict=True)\n",
    "report_df = pd.DataFrame(report)\n",
    "report_df"
   ]
  },
  {
   "cell_type": "code",
   "execution_count": 143,
   "metadata": {},
   "outputs": [
    {
     "data": {
      "text/html": [
       "Waiting for W&B process to finish... <strong style=\"color:green\">(success).</strong>"
      ],
      "text/plain": [
       "<IPython.core.display.HTML object>"
      ]
     },
     "metadata": {},
     "output_type": "display_data"
    },
    {
     "data": {
      "text/html": [
       "<style>\n",
       "    table.wandb td:nth-child(1) { padding: 0 10px; text-align: left ; width: auto;} td:nth-child(2) {text-align: left ; width: 100%}\n",
       "    .wandb-row { display: flex; flex-direction: row; flex-wrap: wrap; justify-content: flex-start; width: 100% }\n",
       "    .wandb-col { display: flex; flex-direction: column; flex-basis: 100%; flex: 1; padding: 10px; }\n",
       "    </style>\n",
       "<div class=\"wandb-row\"><div class=\"wandb-col\"><h3>Run history:</h3><br/><table class=\"wandb\"><tr><td>f1_macro</td><td>▁▁▁▁▁▁</td></tr></table><br/></div><div class=\"wandb-col\"><h3>Run summary:</h3><br/><table class=\"wandb\"><tr><td>f1_macro</td><td>0.40973</td></tr></table><br/></div></div>"
      ],
      "text/plain": [
       "<IPython.core.display.HTML object>"
      ]
     },
     "metadata": {},
     "output_type": "display_data"
    },
    {
     "data": {
      "text/html": [
       " View run <strong style=\"color:#cdcd00\">polished-firefly-1</strong> at: <a href='https://wandb.ai/hynky/o2/runs/4uh5z81h' target=\"_blank\">https://wandb.ai/hynky/o2/runs/4uh5z81h</a><br/>Synced 5 W&B file(s), 0 media file(s), 1 artifact file(s) and 0 other file(s)"
      ],
      "text/plain": [
       "<IPython.core.display.HTML object>"
      ]
     },
     "metadata": {},
     "output_type": "display_data"
    },
    {
     "data": {
      "text/html": [
       "Find logs at: <code>./wandb/run-20230606_223841-4uh5z81h/logs</code>"
      ],
      "text/plain": [
       "<IPython.core.display.HTML object>"
      ]
     },
     "metadata": {},
     "output_type": "display_data"
    }
   ],
   "source": [
    "from utils import save_experiment\n",
    "\n",
    "a = save_experiment(models[best_model[0]], best_model[1])\n"
   ]
  }
 ],
 "metadata": {
  "kernelspec": {
   "display_name": "Python 3 (ipykernel)",
   "language": "python",
   "name": "python3"
  },
  "language_info": {
   "codemirror_mode": {
    "name": "ipython",
    "version": 3
   },
   "file_extension": ".py",
   "mimetype": "text/x-python",
   "name": "python",
   "nbconvert_exporter": "python",
   "pygments_lexer": "ipython3",
   "version": "3.10.4"
  },
  "orig_nbformat": 4
 },
 "nbformat": 4,
 "nbformat_minor": 2
}
